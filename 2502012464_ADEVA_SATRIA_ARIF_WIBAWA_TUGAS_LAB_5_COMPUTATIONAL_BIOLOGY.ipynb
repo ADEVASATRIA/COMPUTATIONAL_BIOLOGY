{
  "nbformat": 4,
  "nbformat_minor": 0,
  "metadata": {
    "colab": {
      "provenance": [],
      "authorship_tag": "ABX9TyOCrv6/EwsbexI/XyjdFZMH",
      "include_colab_link": true
    },
    "kernelspec": {
      "name": "python3",
      "display_name": "Python 3"
    },
    "language_info": {
      "name": "python"
    }
  },
  "cells": [
    {
      "cell_type": "markdown",
      "metadata": {
        "id": "view-in-github",
        "colab_type": "text"
      },
      "source": [
        "<a href=\"https://colab.research.google.com/github/ADEVASATRIA/COMPUTATIONAL_BIOLOGY/blob/master/2502012464_ADEVA_SATRIA_ARIF_WIBAWA_TUGAS_LAB_5_COMPUTATIONAL_BIOLOGY.ipynb\" target=\"_parent\"><img src=\"https://colab.research.google.com/assets/colab-badge.svg\" alt=\"Open In Colab\"/></a>"
      ]
    },
    {
      "cell_type": "markdown",
      "source": [
        "    [ ADEVA SATRIA ARIF WIBAWA ]\n",
        "\n",
        "    [ BB20 ]\n",
        "\n",
        "    [ 2502012464 ]\n",
        "\n",
        "    [ COMPUTATIONAL BIOLOGY ] "
      ],
      "metadata": {
        "id": "gNBqqzR5qgMW"
      }
    },
    {
      "cell_type": "code",
      "execution_count": 29,
      "metadata": {
        "colab": {
          "base_uri": "https://localhost:8080/"
        },
        "id": "yl-wBaTBqdsn",
        "outputId": "6371792e-3f11-4602-e7b6-f21903a61600"
      },
      "outputs": [
        {
          "output_type": "stream",
          "name": "stdout",
          "text": [
            "Looking in indexes: https://pypi.org/simple, https://us-python.pkg.dev/colab-wheels/public/simple/\n",
            "Requirement already satisfied: biopython in /usr/local/lib/python3.10/dist-packages (1.81)\n",
            "Requirement already satisfied: numpy in /usr/local/lib/python3.10/dist-packages (from biopython) (1.22.4)\n"
          ]
        }
      ],
      "source": [
        "try:\n",
        "    import google.colab\n",
        "    # Running on Google Colab, so install Biopython first\n",
        "    !pip install biopython\n",
        "except ImportError:\n",
        "    pass"
      ]
    },
    {
      "cell_type": "code",
      "source": [
        "import os\n",
        "import sys\n",
        "\n",
        "from urllib.request import urlretrieve\n",
        "\n",
        "import Bio\n",
        "from Bio import SeqIO, SearchIO, Entrez\n",
        "from Bio.Seq import Seq\n",
        "from Bio.SeqUtils import GC\n",
        "from Bio.Blast import NCBIWWW\n",
        "from Bio.Data import CodonTable\n",
        "\n",
        "print(\"Python version:\", sys.version_info)\n",
        "print(\"Biopython version:\", Bio.__version__)"
      ],
      "metadata": {
        "colab": {
          "base_uri": "https://localhost:8080/"
        },
        "id": "Oh5-hcNJqr2P",
        "outputId": "276d4f06-6cd7-4f05-c933-a21833ce0bfb"
      },
      "execution_count": 30,
      "outputs": [
        {
          "output_type": "stream",
          "name": "stdout",
          "text": [
            "Python version: sys.version_info(major=3, minor=10, micro=11, releaselevel='final', serial=0)\n",
            "Biopython version: 1.81\n"
          ]
        }
      ]
    },
    {
      "cell_type": "markdown",
      "source": [
        "LAB 5.1"
      ],
      "metadata": {
        "id": "9zrpnDrxrC0O"
      }
    },
    {
      "cell_type": "code",
      "source": [
        "# SPELLING COLLECTION\n",
        "from Bio import Entrez\n",
        "Entrez.email = 'learnbiopython@gmail.com'\n",
        "sciNames = ['Bos gaurus']"
      ],
      "metadata": {
        "id": "22RGDxtLrFqJ"
      },
      "execution_count": 31,
      "outputs": []
    },
    {
      "cell_type": "code",
      "source": [
        "record = Entrez.read(Entrez.espell(db='pmc', term='biopython'))\n",
        "print(type(record))\n",
        "print(record.keys())\n",
        "for key in record.keys():\n",
        "  print(key, ':', record[key])\n"
      ],
      "metadata": {
        "colab": {
          "base_uri": "https://localhost:8080/"
        },
        "id": "fGJ5vMivrcHH",
        "outputId": "4815e3a2-9d0e-4088-de9a-870e6a0c9a7e"
      },
      "execution_count": 32,
      "outputs": [
        {
          "output_type": "stream",
          "name": "stdout",
          "text": [
            "<class 'Bio.Entrez.Parser.DictionaryElement'>\n",
            "dict_keys(['Database', 'Query', 'CorrectedQuery', 'SpelledQuery'])\n",
            "Database : pmc\n",
            "Query : biopython\n",
            "CorrectedQuery : \n",
            "SpelledQuery : []\n"
          ]
        }
      ]
    },
    {
      "cell_type": "code",
      "source": [
        "# Research Collection\n",
        "record = Entrez.read(Entrez.esearch(db='pmc', term='biopython', retmax=100))\n",
        "print(type(record))\n",
        "print(record.keys())\n",
        "for key in record.keys():\n",
        "  print(key, ':', record[key])"
      ],
      "metadata": {
        "colab": {
          "base_uri": "https://localhost:8080/"
        },
        "id": "5uD6Nv1Pr9uL",
        "outputId": "1fac75ac-46ea-4668-ec47-cfa34a01f875"
      },
      "execution_count": 33,
      "outputs": [
        {
          "output_type": "stream",
          "name": "stdout",
          "text": [
            "<class 'Bio.Entrez.Parser.DictionaryElement'>\n",
            "dict_keys(['Count', 'RetMax', 'RetStart', 'IdList', 'TranslationSet', 'TranslationStack', 'QueryTranslation'])\n",
            "Count : 2875\n",
            "RetMax : 100\n",
            "RetStart : 0\n",
            "IdList : ['10224666', '10221840', '10219788', '10219531', '10215675', '10221105', '10216779', '10204868', '10204111', '10203616', '10201985', '10199479', '10198650', '10198438', '10187174', '10185341', '10169335', '10169329', '10168271', '10159843', '10158992', '10153705', '10153118', '10148868', '10148629', '10145048', '10143361', '10134851', '10131221', '10123101', '10120676', '10105235', '10104372', '10104344', '10100218', '10083194', '10072491', '10070815', '10070360', '10070209', '10066034', '10060750', '10055274', '10055226', '10053088', '10049856', '10049292', '10028922', '10028825', '10028787', '10026720', '10003719', '9992841', '9988707', '9983073', '9977097', '9974263', '9973847', '9973303', '9971809', '9967988', '9958100', '9949269', '9949116', '9948713', '9946446', '9650269', '9943676', '9942591', '9937996', '9934365', '9933670', '9933645', '9931576', '9928471', '9917336', '9915273', '9899208', '9898917', '9883684', '10203375', '10199778', '10189941', '10185862', '10179623', '10172142', '10170458', '10171230', '10168389', '10167980', '10164578', '10159649', '10151772', '10149685', '10147940', '10146755', '10135716', '10135430', '10131274', '10128015']\n",
            "TranslationSet : []\n",
            "TranslationStack : [{'Term': 'biopython[All Fields]', 'Field': 'All Fields', 'Count': '2893', 'Explode': 'N'}, 'GROUP']\n",
            "QueryTranslation : biopython[All Fields]\n"
          ]
        }
      ]
    },
    {
      "cell_type": "code",
      "source": [
        "biopythonID = record['IdList']\n",
        "print(biopythonID)"
      ],
      "metadata": {
        "colab": {
          "base_uri": "https://localhost:8080/"
        },
        "id": "N9vIhlmfseQp",
        "outputId": "66edf98e-390d-4a64-fcf1-322d1da7f7d4"
      },
      "execution_count": 34,
      "outputs": [
        {
          "output_type": "stream",
          "name": "stdout",
          "text": [
            "['10224666', '10221840', '10219788', '10219531', '10215675', '10221105', '10216779', '10204868', '10204111', '10203616', '10201985', '10199479', '10198650', '10198438', '10187174', '10185341', '10169335', '10169329', '10168271', '10159843', '10158992', '10153705', '10153118', '10148868', '10148629', '10145048', '10143361', '10134851', '10131221', '10123101', '10120676', '10105235', '10104372', '10104344', '10100218', '10083194', '10072491', '10070815', '10070360', '10070209', '10066034', '10060750', '10055274', '10055226', '10053088', '10049856', '10049292', '10028922', '10028825', '10028787', '10026720', '10003719', '9992841', '9988707', '9983073', '9977097', '9974263', '9973847', '9973303', '9971809', '9967988', '9958100', '9949269', '9949116', '9948713', '9946446', '9650269', '9943676', '9942591', '9937996', '9934365', '9933670', '9933645', '9931576', '9928471', '9917336', '9915273', '9899208', '9898917', '9883684', '10203375', '10199778', '10189941', '10185862', '10179623', '10172142', '10170458', '10171230', '10168389', '10167980', '10164578', '10159649', '10151772', '10149685', '10147940', '10146755', '10135716', '10135430', '10131274', '10128015']\n"
          ]
        }
      ]
    },
    {
      "cell_type": "code",
      "source": [
        "for ID in biopythonID[:10]:\n",
        "  summary = Entrez.read(Entrez.esummary(db='pmc', id=ID))\n",
        "  for handle in summary:\n",
        "    print(handle['Title']), '\\t', handle['FullJournalName'], '\\t', handle['DOI']\n"
      ],
      "metadata": {
        "colab": {
          "base_uri": "https://localhost:8080/"
        },
        "id": "LeGJvh9_s4eu",
        "outputId": "e078d705-bf43-4247-91e2-57d0e638361c"
      },
      "execution_count": 35,
      "outputs": [
        {
          "output_type": "stream",
          "name": "stdout",
          "text": [
            "DNA based neoepitope vaccination induces tumor control in syngeneic mouse models\n",
            "Comparative Genomic Analysis and Species Delimitation: A Case for Two Species in the Zoonotic Cestode Dipylidium caninum\n",
            "uORF4u: a tool for annotation of conserved upstream open reading frames\n",
            "Pharmacoinformatic Investigation of Silymarin as a Potential Inhibitor against Nemopilema nomurai Jellyfish Metalloproteinase Toxin-like Protein\n",
            "Synergistic Activity of Cefiderocol in Combination with Piperacillin-Tazobactam, Fosfomycin, Ampicillin-Sulbactam, Imipenem-Relebactam and Ceftazidime-Avibactam against Carbapenem-Resistant Gram-Negative Bacteria\n",
            "Isolation and Identification of Multidrug-Resistant Klebsiella pneumoniae Clones from the Hospital Environment\n",
            "Motif2Mol: Prediction of New Active Compounds Based on Sequence Motifs of Ligand Binding Sites in Proteins Using a Biochemical Language Model\n",
            "Guiding protein design choices by per-residue energy breakdown analysis with an interactive web application\n",
            "Navigating bottlenecks and trade-offs in genomic data analysis\n",
            "iTCep: a deep learning framework for identification of T cell epitopes by harnessing fusion features\n"
          ]
        }
      ]
    },
    {
      "cell_type": "markdown",
      "source": [
        "SLIDE 2"
      ],
      "metadata": {
        "id": "roVTe1Vluho0"
      }
    },
    {
      "cell_type": "code",
      "source": [
        "# Examples of Homo sapiens Genes Research in NCBI Nucleotide database\n",
        "\n",
        "# Three examples of Homo sapiens \n",
        "# OCA2 : malenosonal transmembrane protein (eye color gene)\n",
        "# idtype = 'aca' means we want to know the Accession Number.\n",
        "\n",
        "record = Entrez.read(Entrez.esearch(db='nucleotide',\n",
        "                                    term='OCA2[Gene Name] AND Homo sapiens [Organism] AND refSeq[Keyword]',\n",
        "                                    retmax=100, idtype='acc'))"
      ],
      "metadata": {
        "id": "iJnqwd7qukir"
      },
      "execution_count": 36,
      "outputs": []
    },
    {
      "cell_type": "code",
      "source": [
        "for ID in record['IdList']:\n",
        "  if 'NM_' in ID:\n",
        "    fetch = Entrez.efetch(db='nucleotide', id=ID, retype='fasta', retmode='text')\n",
        "    readFetch = fetch.readline()\n",
        "    print(readFetch)"
      ],
      "metadata": {
        "colab": {
          "base_uri": "https://localhost:8080/"
        },
        "id": "hQDGgX1cukoi",
        "outputId": "966e179e-5549-4f12-a617-13d572eb0417"
      },
      "execution_count": 37,
      "outputs": [
        {
          "output_type": "stream",
          "name": "stdout",
          "text": [
            "Seq-entry ::= set {\n",
            "\n",
            "Seq-entry ::= set {\n",
            "\n"
          ]
        }
      ]
    },
    {
      "cell_type": "code",
      "source": [
        "print(record)\n",
        "counter = 0 \n",
        "fetchList = []\n",
        "for ID in record['IdList']:\n",
        "    if 'NM_' in ID:\n",
        "      counter +=1\n",
        "      fetch = Entrez.efetch(db='nucleotide',\n",
        "                            Id=ID,\n",
        "                            retype='fasta',\n",
        "                            retmode='text')\n",
        "      readFetch = fetch.readline()\n",
        "      fetchList.append(readFetch)\n",
        "\n",
        "print(fetchList)\n",
        "print(len(fetchList))"
      ],
      "metadata": {
        "colab": {
          "base_uri": "https://localhost:8080/"
        },
        "id": "zaZ5bJa_w3Km",
        "outputId": "9592dbdf-9ffb-4994-bd8e-b7612466a005"
      },
      "execution_count": 38,
      "outputs": [
        {
          "output_type": "stream",
          "name": "stdout",
          "text": [
            "{'Count': '66', 'RetMax': '66', 'RetStart': '0', 'IdList': ['NG_009846.2', 'NM_001300984.2', 'NM_000275.3', 'XR_008488954.1', 'XM_054378103.1', 'XM_054378102.1', 'XM_054378101.1', 'XM_054378100.1', 'XM_054378099.1', 'XM_054378098.1', 'XM_054378097.1', 'XM_054378096.1', 'XM_054378095.1', 'XM_054378094.1', 'XM_054378093.1', 'XM_054378092.1', 'XM_054378091.1', 'XM_054378090.1', 'XM_054378089.1', 'XM_054378088.1', 'XM_054378087.1', 'XM_054378086.1', 'XM_054378085.1', 'XM_054378084.1', 'XM_054378083.1', 'XM_054378082.1', 'XM_054378081.1', 'XM_054378080.1', 'XM_054378079.1', 'XM_054378078.1', 'XM_054378077.1', 'XM_054378076.1', 'XM_054378075.1', 'XM_054378074.1', 'XR_001751294.2', 'XM_017022265.2', 'XM_047432619.1', 'XM_047432618.1', 'XM_047432617.1', 'XM_047432616.1', 'XM_047432615.1', 'XM_047432614.1', 'XM_017022264.2', 'XM_047432613.1', 'XM_047432612.1', 'XM_017022263.2', 'XM_047432611.1', 'XM_017022262.2', 'XM_017022261.2', 'XM_047432610.1', 'XM_047432609.1', 'XM_047432608.1', 'XM_047432607.1', 'XM_017022260.2', 'XM_017022259.2', 'XM_047432606.1', 'XM_047432605.1', 'XM_017022258.2', 'XM_017022257.2', 'XM_017022256.2', 'XM_011521640.3', 'XM_017022255.2', 'NC_060939.1', 'NW_011332701.1', 'NC_000015.10', 'NT_187660.1'], 'TranslationSet': [{'From': 'Homo sapiens[Organism]', 'To': '\"Homo sapiens\"[Organism]'}], 'TranslationStack': [{'Term': 'OCA2[Gene Name]', 'Field': 'Gene Name', 'Count': '2371', 'Explode': 'N'}, {'Term': '\"Homo sapiens\"[Organism]', 'Field': 'Organism', 'Count': '28444714', 'Explode': 'Y'}, 'AND', {'Term': 'refSeq[Keyword]', 'Field': 'Keyword', 'Count': '96227988', 'Explode': 'N'}, 'AND'], 'QueryTranslation': 'OCA2[Gene Name] AND \"Homo sapiens\"[Organism] AND refSeq[Keyword]'}\n",
            "['Seq-entry ::= set {\\n', 'Seq-entry ::= set {\\n']\n",
            "2\n"
          ]
        }
      ]
    },
    {
      "cell_type": "markdown",
      "source": [
        "LAB 5.2"
      ],
      "metadata": {
        "id": "1dhIE92Sxz6G"
      }
    },
    {
      "cell_type": "markdown",
      "source": [
        "WORKING WITH COMMON FILE FORMATS "
      ],
      "metadata": {
        "id": "1hrLdKTax-Oc"
      }
    },
    {
      "cell_type": "code",
      "source": [
        "from typing import Sequence\n",
        "# Reading FASTA file format\n",
        "from Bio import SeqIO\n",
        "from Bio.Seq import Seq\n",
        "from Bio.SeqRecord import SeqRecord\n",
        "\n",
        "Sequence = \"ATGGAGGACAGCCCCACTATGGTTAGAGTGGACAGCCCCACTATGGTTAGGGGTGAAAACCAGGTTTCGCCATGTCAAGGGAGAAGGTGCTTCCCCAAAGCTCTTGGCTATGTCACCGGTGACATGAAAAAACTTGCCAACCAGCTTAAAGNNNNNNNNNNNNNNNNNNNNNNNNNNNNNNNNNNNNNNNNNNNNNNNNNNNNNNNNNNNNNNNNNNNNNNNNNNNNNNNNNNNNNNNNNNNNNNNNNNNNACAAACCCGTGGTGCTCCAGTTCATTGACTGGATTCTCCGGGGCATATCCCAAGTGGTGTTCGTCAACGACCCCGTCAGTGGAATCCTGATTCTGGTAGGACTTCTTGTTCAGAACCCCTGGTGGGCTCTCACTGGCTGGCTGGGAACAGTGGTCTCCACTCTGATGGCCCTCTTGCTCAGCCAGGACAG\"\n",
        "\n",
        "record = SeqRecord(Seq(Sequence), id='example_sequence', description='Example Sequence')\n",
        "SeqIO.write(record, \"sequence.fasta\", \"fasta\")"
      ],
      "metadata": {
        "colab": {
          "base_uri": "https://localhost:8080/"
        },
        "id": "Wi-XUiwnx3bE",
        "outputId": "e0fbc3c6-387e-4e0c-f03b-b1ba28945639"
      },
      "execution_count": 39,
      "outputs": [
        {
          "output_type": "execute_result",
          "data": {
            "text/plain": [
              "1"
            ]
          },
          "metadata": {},
          "execution_count": 39
        }
      ]
    },
    {
      "cell_type": "code",
      "source": [
        "# Load and print A FASTA file format \n",
        "for record in SeqIO.parse(\"sequence.fasta\",\"fasta\"):\n",
        "  print(record.id)\n",
        "  print(record.description)"
      ],
      "metadata": {
        "colab": {
          "base_uri": "https://localhost:8080/"
        },
        "id": "T82rjbMZypIb",
        "outputId": "07c7d31c-5b2c-4fdd-93e0-2605d9495bf0"
      },
      "execution_count": 40,
      "outputs": [
        {
          "output_type": "stream",
          "name": "stdout",
          "text": [
            "example_sequence\n",
            "example_sequence Example Sequence\n"
          ]
        }
      ]
    },
    {
      "cell_type": "code",
      "source": [
        "for record in SeqIO.parse(\"sequence.fasta\", \"fasta\"):\n",
        "  print(record)"
      ],
      "metadata": {
        "colab": {
          "base_uri": "https://localhost:8080/"
        },
        "id": "hRInDPdZ3cie",
        "outputId": "7d0b652a-0f63-46a4-ab29-ffa10985674c"
      },
      "execution_count": 41,
      "outputs": [
        {
          "output_type": "stream",
          "name": "stdout",
          "text": [
            "ID: example_sequence\n",
            "Name: example_sequence\n",
            "Description: example_sequence Example Sequence\n",
            "Number of features: 0\n",
            "Seq('ATGGAGGACAGCCCCACTATGGTTAGAGTGGACAGCCCCACTATGGTTAGGGGT...CAG')\n"
          ]
        }
      ]
    },
    {
      "cell_type": "code",
      "source": [
        "# Reading the Sequence in Fasta file Format \n",
        "dna_record = SeqIO.read(\"sequence.fasta\", \"fasta\")"
      ],
      "metadata": {
        "id": "gjQoDKWV5VY3"
      },
      "execution_count": 42,
      "outputs": []
    },
    {
      "cell_type": "code",
      "source": [
        "dna_seq = dna_record.seq"
      ],
      "metadata": {
        "id": "MYrulRW85kYu"
      },
      "execution_count": 43,
      "outputs": []
    },
    {
      "cell_type": "code",
      "source": [
        "dna_seq"
      ],
      "metadata": {
        "colab": {
          "base_uri": "https://localhost:8080/"
        },
        "id": "SpjzG8gt5ovL",
        "outputId": "932bb293-3d3e-4bd4-fb8e-a55def61f42e"
      },
      "execution_count": 44,
      "outputs": [
        {
          "output_type": "execute_result",
          "data": {
            "text/plain": [
              "Seq('ATGGAGGACAGCCCCACTATGGTTAGAGTGGACAGCCCCACTATGGTTAGGGGT...CAG')"
            ]
          },
          "metadata": {},
          "execution_count": 44
        }
      ]
    },
    {
      "cell_type": "markdown",
      "source": [
        "Slide 10"
      ],
      "metadata": {
        "id": "yUWGmvs30DLG"
      }
    },
    {
      "cell_type": "code",
      "source": [
        "# Reading our fasta File\n",
        "from Bio.Seq import Seq\n",
        "from Bio import SeqIO\n",
        "seq_test = SeqIO.read(\"sequence.fasta\", \"fasta\")\n",
        "dna_seq = seq_test.seq\n",
        "\n",
        "#Transaction\n",
        "# DNA to mRNA = Writing the msg\n",
        "protein_test = dna_seq.transcribe().translate()\n",
        "protein_test\n"
      ],
      "metadata": {
        "colab": {
          "base_uri": "https://localhost:8080/"
        },
        "id": "Ys-6oL3R0Ek-",
        "outputId": "5c865746-4894-4a47-c601-b7f996ca6bca"
      },
      "execution_count": 45,
      "outputs": [
        {
          "output_type": "execute_result",
          "data": {
            "text/plain": [
              "Seq('MEDSPTMVRVDSPTMVRGENQVSPCQGRRCFPKALGYVTGDMKKLANQLKXXXX...PGQ')"
            ]
          },
          "metadata": {},
          "execution_count": 45
        }
      ]
    },
    {
      "cell_type": "code",
      "source": [
        "# Longest Seq AA before a stop codon \n",
        "protein_test_clean = protein_test.split(\"*\")\n",
        "protein_test_clean = [ str(i) for i in protein_test_clean]\n",
        "protein_test_clean"
      ],
      "metadata": {
        "colab": {
          "base_uri": "https://localhost:8080/"
        },
        "id": "ohx5vcPW6zjH",
        "outputId": "b06586b4-5299-43ed-c742-a95303569c7d"
      },
      "execution_count": 46,
      "outputs": [
        {
          "output_type": "execute_result",
          "data": {
            "text/plain": [
              "['MEDSPTMVRVDSPTMVRGENQVSPCQGRRCFPKALGYVTGDMKKLANQLKXXXXXXXXXXXXXXXXXXXXXXXXXXXXXXXXXXQTRGAPVH',\n",
              " 'LDSPGHIPSGVRQRPRQWNPDSGRTSCSEPLVGSHWLAGNSGLHSDGPLAQPGQ']"
            ]
          },
          "metadata": {},
          "execution_count": 46
        }
      ]
    },
    {
      "cell_type": "code",
      "source": [
        "# Data Frame (OPTIONAL BUT IMPORTANT FOR DATAS SCIENCE)\n",
        "import pandas as pd \n",
        "df = pd.DataFrame({\"amino_acids\":protein_test_clean})\n",
        "protein_test_clean\n"
      ],
      "metadata": {
        "id": "YzGLFWA37Zv-",
        "colab": {
          "base_uri": "https://localhost:8080/"
        },
        "outputId": "fe2d8d2d-41c9-4a1b-a9ac-27b05c3f6b98"
      },
      "execution_count": 47,
      "outputs": [
        {
          "output_type": "execute_result",
          "data": {
            "text/plain": [
              "['MEDSPTMVRVDSPTMVRGENQVSPCQGRRCFPKALGYVTGDMKKLANQLKXXXXXXXXXXXXXXXXXXXXXXXXXXXXXXXXXXQTRGAPVH',\n",
              " 'LDSPGHIPSGVRQRPRQWNPDSGRTSCSEPLVGSHWLAGNSGLHSDGPLAQPGQ']"
            ]
          },
          "metadata": {},
          "execution_count": 47
        }
      ]
    },
    {
      "cell_type": "code",
      "source": [
        "df['count'] = df['amino_acids'].str.len()"
      ],
      "metadata": {
        "id": "n_KS4yyIH2CH"
      },
      "execution_count": 48,
      "outputs": []
    },
    {
      "cell_type": "code",
      "source": [
        "df.head()"
      ],
      "metadata": {
        "colab": {
          "base_uri": "https://localhost:8080/",
          "height": 112
        },
        "id": "lyBadg9TIBtX",
        "outputId": "5efe5770-8a7a-4212-f9c2-fb70c863f543"
      },
      "execution_count": 49,
      "outputs": [
        {
          "output_type": "execute_result",
          "data": {
            "text/plain": [
              "                                         amino_acids  count\n",
              "0  MEDSPTMVRVDSPTMVRGENQVSPCQGRRCFPKALGYVTGDMKKLA...     92\n",
              "1  LDSPGHIPSGVRQRPRQWNPDSGRTSCSEPLVGSHWLAGNSGLHSD...     54"
            ],
            "text/html": [
              "\n",
              "  <div id=\"df-c9b13c7c-03b3-406c-97af-b16e141aaa6d\">\n",
              "    <div class=\"colab-df-container\">\n",
              "      <div>\n",
              "<style scoped>\n",
              "    .dataframe tbody tr th:only-of-type {\n",
              "        vertical-align: middle;\n",
              "    }\n",
              "\n",
              "    .dataframe tbody tr th {\n",
              "        vertical-align: top;\n",
              "    }\n",
              "\n",
              "    .dataframe thead th {\n",
              "        text-align: right;\n",
              "    }\n",
              "</style>\n",
              "<table border=\"1\" class=\"dataframe\">\n",
              "  <thead>\n",
              "    <tr style=\"text-align: right;\">\n",
              "      <th></th>\n",
              "      <th>amino_acids</th>\n",
              "      <th>count</th>\n",
              "    </tr>\n",
              "  </thead>\n",
              "  <tbody>\n",
              "    <tr>\n",
              "      <th>0</th>\n",
              "      <td>MEDSPTMVRVDSPTMVRGENQVSPCQGRRCFPKALGYVTGDMKKLA...</td>\n",
              "      <td>92</td>\n",
              "    </tr>\n",
              "    <tr>\n",
              "      <th>1</th>\n",
              "      <td>LDSPGHIPSGVRQRPRQWNPDSGRTSCSEPLVGSHWLAGNSGLHSD...</td>\n",
              "      <td>54</td>\n",
              "    </tr>\n",
              "  </tbody>\n",
              "</table>\n",
              "</div>\n",
              "      <button class=\"colab-df-convert\" onclick=\"convertToInteractive('df-c9b13c7c-03b3-406c-97af-b16e141aaa6d')\"\n",
              "              title=\"Convert this dataframe to an interactive table.\"\n",
              "              style=\"display:none;\">\n",
              "        \n",
              "  <svg xmlns=\"http://www.w3.org/2000/svg\" height=\"24px\"viewBox=\"0 0 24 24\"\n",
              "       width=\"24px\">\n",
              "    <path d=\"M0 0h24v24H0V0z\" fill=\"none\"/>\n",
              "    <path d=\"M18.56 5.44l.94 2.06.94-2.06 2.06-.94-2.06-.94-.94-2.06-.94 2.06-2.06.94zm-11 1L8.5 8.5l.94-2.06 2.06-.94-2.06-.94L8.5 2.5l-.94 2.06-2.06.94zm10 10l.94 2.06.94-2.06 2.06-.94-2.06-.94-.94-2.06-.94 2.06-2.06.94z\"/><path d=\"M17.41 7.96l-1.37-1.37c-.4-.4-.92-.59-1.43-.59-.52 0-1.04.2-1.43.59L10.3 9.45l-7.72 7.72c-.78.78-.78 2.05 0 2.83L4 21.41c.39.39.9.59 1.41.59.51 0 1.02-.2 1.41-.59l7.78-7.78 2.81-2.81c.8-.78.8-2.07 0-2.86zM5.41 20L4 18.59l7.72-7.72 1.47 1.35L5.41 20z\"/>\n",
              "  </svg>\n",
              "      </button>\n",
              "      \n",
              "  <style>\n",
              "    .colab-df-container {\n",
              "      display:flex;\n",
              "      flex-wrap:wrap;\n",
              "      gap: 12px;\n",
              "    }\n",
              "\n",
              "    .colab-df-convert {\n",
              "      background-color: #E8F0FE;\n",
              "      border: none;\n",
              "      border-radius: 50%;\n",
              "      cursor: pointer;\n",
              "      display: none;\n",
              "      fill: #1967D2;\n",
              "      height: 32px;\n",
              "      padding: 0 0 0 0;\n",
              "      width: 32px;\n",
              "    }\n",
              "\n",
              "    .colab-df-convert:hover {\n",
              "      background-color: #E2EBFA;\n",
              "      box-shadow: 0px 1px 2px rgba(60, 64, 67, 0.3), 0px 1px 3px 1px rgba(60, 64, 67, 0.15);\n",
              "      fill: #174EA6;\n",
              "    }\n",
              "\n",
              "    [theme=dark] .colab-df-convert {\n",
              "      background-color: #3B4455;\n",
              "      fill: #D2E3FC;\n",
              "    }\n",
              "\n",
              "    [theme=dark] .colab-df-convert:hover {\n",
              "      background-color: #434B5C;\n",
              "      box-shadow: 0px 1px 3px 1px rgba(0, 0, 0, 0.15);\n",
              "      filter: drop-shadow(0px 1px 2px rgba(0, 0, 0, 0.3));\n",
              "      fill: #FFFFFF;\n",
              "    }\n",
              "  </style>\n",
              "\n",
              "      <script>\n",
              "        const buttonEl =\n",
              "          document.querySelector('#df-c9b13c7c-03b3-406c-97af-b16e141aaa6d button.colab-df-convert');\n",
              "        buttonEl.style.display =\n",
              "          google.colab.kernel.accessAllowed ? 'block' : 'none';\n",
              "\n",
              "        async function convertToInteractive(key) {\n",
              "          const element = document.querySelector('#df-c9b13c7c-03b3-406c-97af-b16e141aaa6d');\n",
              "          const dataTable =\n",
              "            await google.colab.kernel.invokeFunction('convertToInteractive',\n",
              "                                                     [key], {});\n",
              "          if (!dataTable) return;\n",
              "\n",
              "          const docLinkHtml = 'Like what you see? Visit the ' +\n",
              "            '<a target=\"_blank\" href=https://colab.research.google.com/notebooks/data_table.ipynb>data table notebook</a>'\n",
              "            + ' to learn more about interactive tables.';\n",
              "          element.innerHTML = '';\n",
              "          dataTable['output_type'] = 'display_data';\n",
              "          await google.colab.output.renderOutput(dataTable, element);\n",
              "          const docLink = document.createElement('div');\n",
              "          docLink.innerHTML = docLinkHtml;\n",
              "          element.appendChild(docLink);\n",
              "        }\n",
              "      </script>\n",
              "    </div>\n",
              "  </div>\n",
              "  "
            ]
          },
          "metadata": {},
          "execution_count": 49
        }
      ]
    },
    {
      "cell_type": "code",
      "source": [
        "df.nlargest(10,'count')"
      ],
      "metadata": {
        "colab": {
          "base_uri": "https://localhost:8080/",
          "height": 112
        },
        "id": "dVwD5TMHIFCj",
        "outputId": "fc95d850-251f-41fb-c0b2-d89571119d50"
      },
      "execution_count": 50,
      "outputs": [
        {
          "output_type": "execute_result",
          "data": {
            "text/plain": [
              "                                         amino_acids  count\n",
              "0  MEDSPTMVRVDSPTMVRGENQVSPCQGRRCFPKALGYVTGDMKKLA...     92\n",
              "1  LDSPGHIPSGVRQRPRQWNPDSGRTSCSEPLVGSHWLAGNSGLHSD...     54"
            ],
            "text/html": [
              "\n",
              "  <div id=\"df-b6b13a50-ece0-4d4a-88a2-7422ed51873f\">\n",
              "    <div class=\"colab-df-container\">\n",
              "      <div>\n",
              "<style scoped>\n",
              "    .dataframe tbody tr th:only-of-type {\n",
              "        vertical-align: middle;\n",
              "    }\n",
              "\n",
              "    .dataframe tbody tr th {\n",
              "        vertical-align: top;\n",
              "    }\n",
              "\n",
              "    .dataframe thead th {\n",
              "        text-align: right;\n",
              "    }\n",
              "</style>\n",
              "<table border=\"1\" class=\"dataframe\">\n",
              "  <thead>\n",
              "    <tr style=\"text-align: right;\">\n",
              "      <th></th>\n",
              "      <th>amino_acids</th>\n",
              "      <th>count</th>\n",
              "    </tr>\n",
              "  </thead>\n",
              "  <tbody>\n",
              "    <tr>\n",
              "      <th>0</th>\n",
              "      <td>MEDSPTMVRVDSPTMVRGENQVSPCQGRRCFPKALGYVTGDMKKLA...</td>\n",
              "      <td>92</td>\n",
              "    </tr>\n",
              "    <tr>\n",
              "      <th>1</th>\n",
              "      <td>LDSPGHIPSGVRQRPRQWNPDSGRTSCSEPLVGSHWLAGNSGLHSD...</td>\n",
              "      <td>54</td>\n",
              "    </tr>\n",
              "  </tbody>\n",
              "</table>\n",
              "</div>\n",
              "      <button class=\"colab-df-convert\" onclick=\"convertToInteractive('df-b6b13a50-ece0-4d4a-88a2-7422ed51873f')\"\n",
              "              title=\"Convert this dataframe to an interactive table.\"\n",
              "              style=\"display:none;\">\n",
              "        \n",
              "  <svg xmlns=\"http://www.w3.org/2000/svg\" height=\"24px\"viewBox=\"0 0 24 24\"\n",
              "       width=\"24px\">\n",
              "    <path d=\"M0 0h24v24H0V0z\" fill=\"none\"/>\n",
              "    <path d=\"M18.56 5.44l.94 2.06.94-2.06 2.06-.94-2.06-.94-.94-2.06-.94 2.06-2.06.94zm-11 1L8.5 8.5l.94-2.06 2.06-.94-2.06-.94L8.5 2.5l-.94 2.06-2.06.94zm10 10l.94 2.06.94-2.06 2.06-.94-2.06-.94-.94-2.06-.94 2.06-2.06.94z\"/><path d=\"M17.41 7.96l-1.37-1.37c-.4-.4-.92-.59-1.43-.59-.52 0-1.04.2-1.43.59L10.3 9.45l-7.72 7.72c-.78.78-.78 2.05 0 2.83L4 21.41c.39.39.9.59 1.41.59.51 0 1.02-.2 1.41-.59l7.78-7.78 2.81-2.81c.8-.78.8-2.07 0-2.86zM5.41 20L4 18.59l7.72-7.72 1.47 1.35L5.41 20z\"/>\n",
              "  </svg>\n",
              "      </button>\n",
              "      \n",
              "  <style>\n",
              "    .colab-df-container {\n",
              "      display:flex;\n",
              "      flex-wrap:wrap;\n",
              "      gap: 12px;\n",
              "    }\n",
              "\n",
              "    .colab-df-convert {\n",
              "      background-color: #E8F0FE;\n",
              "      border: none;\n",
              "      border-radius: 50%;\n",
              "      cursor: pointer;\n",
              "      display: none;\n",
              "      fill: #1967D2;\n",
              "      height: 32px;\n",
              "      padding: 0 0 0 0;\n",
              "      width: 32px;\n",
              "    }\n",
              "\n",
              "    .colab-df-convert:hover {\n",
              "      background-color: #E2EBFA;\n",
              "      box-shadow: 0px 1px 2px rgba(60, 64, 67, 0.3), 0px 1px 3px 1px rgba(60, 64, 67, 0.15);\n",
              "      fill: #174EA6;\n",
              "    }\n",
              "\n",
              "    [theme=dark] .colab-df-convert {\n",
              "      background-color: #3B4455;\n",
              "      fill: #D2E3FC;\n",
              "    }\n",
              "\n",
              "    [theme=dark] .colab-df-convert:hover {\n",
              "      background-color: #434B5C;\n",
              "      box-shadow: 0px 1px 3px 1px rgba(0, 0, 0, 0.15);\n",
              "      filter: drop-shadow(0px 1px 2px rgba(0, 0, 0, 0.3));\n",
              "      fill: #FFFFFF;\n",
              "    }\n",
              "  </style>\n",
              "\n",
              "      <script>\n",
              "        const buttonEl =\n",
              "          document.querySelector('#df-b6b13a50-ece0-4d4a-88a2-7422ed51873f button.colab-df-convert');\n",
              "        buttonEl.style.display =\n",
              "          google.colab.kernel.accessAllowed ? 'block' : 'none';\n",
              "\n",
              "        async function convertToInteractive(key) {\n",
              "          const element = document.querySelector('#df-b6b13a50-ece0-4d4a-88a2-7422ed51873f');\n",
              "          const dataTable =\n",
              "            await google.colab.kernel.invokeFunction('convertToInteractive',\n",
              "                                                     [key], {});\n",
              "          if (!dataTable) return;\n",
              "\n",
              "          const docLinkHtml = 'Like what you see? Visit the ' +\n",
              "            '<a target=\"_blank\" href=https://colab.research.google.com/notebooks/data_table.ipynb>data table notebook</a>'\n",
              "            + ' to learn more about interactive tables.';\n",
              "          element.innerHTML = '';\n",
              "          dataTable['output_type'] = 'display_data';\n",
              "          await google.colab.output.renderOutput(dataTable, element);\n",
              "          const docLink = document.createElement('div');\n",
              "          docLink.innerHTML = docLinkHtml;\n",
              "          element.appendChild(docLink);\n",
              "        }\n",
              "      </script>\n",
              "    </div>\n",
              "  </div>\n",
              "  "
            ]
          },
          "metadata": {},
          "execution_count": 50
        }
      ]
    }
  ]
}