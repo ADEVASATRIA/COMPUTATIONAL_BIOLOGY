{
  "nbformat": 4,
  "nbformat_minor": 0,
  "metadata": {
    "colab": {
      "provenance": [],
      "authorship_tag": "ABX9TyMJ/P28bP9DhzycIEnWy+mJ",
      "include_colab_link": true
    },
    "kernelspec": {
      "name": "python3",
      "display_name": "Python 3"
    },
    "language_info": {
      "name": "python"
    }
  },
  "cells": [
    {
      "cell_type": "markdown",
      "metadata": {
        "id": "view-in-github",
        "colab_type": "text"
      },
      "source": [
        "<a href=\"https://colab.research.google.com/github/ADEVASATRIA/COMPUTATIONAL_BIOLOGY/blob/master/2502012464_ADEVA_SATRIA_ARIF_WIBAWA_TUGAS_SESI_4_LAB_COMPUTATIONAL_BIOLOGY.ipynb\" target=\"_parent\"><img src=\"https://colab.research.google.com/assets/colab-badge.svg\" alt=\"Open In Colab\"/></a>"
      ]
    },
    {
      "cell_type": "markdown",
      "source": [
        "    [ ADEVA SATRIA ARIF WIBAWA ]\n",
        "\n",
        "    [ BB20 ]\n",
        "\n",
        "    [ 2502012464 ]\n",
        "\n",
        "    [ COMPUTATIONAL BIOLOGY ] "
      ],
      "metadata": {
        "id": "CPbXiYglUIXV"
      }
    },
    {
      "cell_type": "code",
      "execution_count": null,
      "metadata": {
        "colab": {
          "base_uri": "https://localhost:8080/"
        },
        "id": "QSI-3iNTgrzr",
        "outputId": "b3b54313-bdbc-474d-991f-652df93b3c23"
      },
      "outputs": [
        {
          "output_type": "stream",
          "name": "stdout",
          "text": [
            "Looking in indexes: https://pypi.org/simple, https://us-python.pkg.dev/colab-wheels/public/simple/\n",
            "Collecting biopython\n",
            "  Downloading biopython-1.81-cp310-cp310-manylinux_2_17_x86_64.manylinux2014_x86_64.whl (3.1 MB)\n",
            "\u001b[2K     \u001b[90m━━━━━━━━━━━━━━━━━━━━━━━━━━━━━━━━━━━━━━━━\u001b[0m \u001b[32m3.1/3.1 MB\u001b[0m \u001b[31m82.8 MB/s\u001b[0m eta \u001b[36m0:00:00\u001b[0m\n",
            "\u001b[?25hRequirement already satisfied: numpy in /usr/local/lib/python3.10/dist-packages (from biopython) (1.22.4)\n",
            "Installing collected packages: biopython\n",
            "Successfully installed biopython-1.81\n"
          ]
        }
      ],
      "source": [
        "try:\n",
        "    import google.colab\n",
        "    # Running on Google Colab, so install Biopython first\n",
        "    !pip install biopython\n",
        "except ImportError:\n",
        "    pass"
      ]
    },
    {
      "cell_type": "code",
      "source": [
        "import os\n",
        "import sys\n",
        "\n",
        "from urllib.request import urlretrieve\n",
        "\n",
        "import Bio\n",
        "from Bio import SeqIO, SearchIO, Entrez\n",
        "from Bio.Seq import Seq\n",
        "from Bio.SeqUtils import GC\n",
        "from Bio.Blast import NCBIWWW\n",
        "from Bio.Data import CodonTable\n",
        "\n",
        "print(\"Python version:\", sys.version_info)\n",
        "print(\"Biopython version:\", Bio.__version__)"
      ],
      "metadata": {
        "colab": {
          "base_uri": "https://localhost:8080/"
        },
        "id": "KRTjdw_Wg8ef",
        "outputId": "0efb438e-6aad-41b0-fef7-15d5851f6ff5"
      },
      "execution_count": null,
      "outputs": [
        {
          "output_type": "stream",
          "name": "stdout",
          "text": [
            "Python version: sys.version_info(major=3, minor=10, micro=11, releaselevel='final', serial=0)\n",
            "Biopython version: 1.81\n"
          ]
        }
      ]
    },
    {
      "cell_type": "markdown",
      "source": [
        "GLOBAL AND LOCAL ALIGNMENT"
      ],
      "metadata": {
        "id": "1XWEgRdcsUPM"
      }
    },
    {
      "cell_type": "code",
      "source": [
        "from Bio import pairwise2\n",
        "from Bio.pairwise2 import format_alignment\n"
      ],
      "metadata": {
        "id": "BzC2kacChAne",
        "colab": {
          "base_uri": "https://localhost:8080/"
        },
        "outputId": "ade8ca63-0356-4300-a034-f012362c72b7"
      },
      "execution_count": null,
      "outputs": [
        {
          "output_type": "stream",
          "name": "stderr",
          "text": [
            "/usr/local/lib/python3.10/dist-packages/Bio/pairwise2.py:278: BiopythonDeprecationWarning: Bio.pairwise2 has been deprecated, and we intend to remove it in a future release of Biopython. As an alternative, please consider using Bio.Align.PairwiseAligner as a replacement, and contact the Biopython developers if you still need the Bio.pairwise2 module.\n",
            "  warnings.warn(\n"
          ]
        }
      ]
    },
    {
      "cell_type": "code",
      "source": [
        "seq1 = Seq('AGCAGACGCTCCCTCAGCAAGGACAGCAGAGGACCAGCTAAGAGGGAGAGAAGCAACTACAGACCCCCCCTGAAAACAACCCTCAGACGCCACATCCCCTGACAAGCTGCCGGCAGGTTCTCTTCCTCTCACATACTGACCCACGGCTCCACCCTCTCTCCCCTGGAAAGGACACCATGAGCACTGAAAGCATGATCCGGGACGTGGAGCTGGCCGAGGAGGCGCTCCCCAAGAAGACAGGGGGGCCCCAGGGCTCCAGGCGGTGCTTGTTCCTCAGCCTCTTCTCCTTCCTGATCGTGGCAGGCGCCACCACGCTCTTCTGCCTGCTGCACTTTGGAGTGATCGGCCCCCAGAGGGAAGAGTTCCCCAGGGACCTCTCTCTAATCAGCCCTCTGGCCCAGGCAGTCAGATCATCTTCTCGAACCCCGAGTGACAAGCCTGTAGCCCATGTTGTAGCAAACCCTCAAGCTGAGGGGCAGCTCCAGTGGCTGAACCGCCGGGCCAATGCCCTCCTGGCCAATGGCGTGGAGCTGAGAGATAACCAGCTGGTGGTGCCATCAGAGGGCCTGTACCTCATCTACTCCCAGGTCCTCTTCAAGGGCCAAGGCTGCCCCTCCACCCATGTGCTCCTCACCCACACCATCAGCCGCATCGCCGTCTCCTACCAGACCAAGGTCAACCTCCTCTCTGCCATCAAGAGCCCCTGCCAGAGGGAGACCCCAGAGGGGGCTGAGGCCAAGCCCTGGTATGAGCCCATCTATCTGGGAGGGGTCTTCCAGCTGGAGAAGGGTGACCGACTCAGCGCTGAGATCAATCGGCCCGACTATCTCGACTTTGCCGAGTCTGGGCAGGTCTACTTTGGGATCATTGCCCTGTGAGGAGGACGAACATCCAACCTTCCCAAACGCCTCCCCTGCCCCAATCCCTTTATTACCCCCTCCTTCAGACACCCTCAACCTCTTCTGGCTCAAAAAGAGAATTGGGGGCTTAGGGTCGGAACCCAAGCTTAGAACTTTAAGCAACAAGACCACCACTTCGAAACCTGGGATTCAGGAATGTGTGGCCTGCACAGTGAAGTGCTGGCAACCACTAAGAATTCAAACTGGGGCCTCCAGAACTCACTGGGGCCTACAGCTTTGATCCCTGACATCTGGAATCTGGAGACCAGGGAGCCTTTGGTTCTGGCCAGAATGCTGCAGGACTTGAGAAGACCTCACCTAGAAATTGACACAAGTGGACCTTAGGCCTTCCTCTCTCCAGATGTTTCCAGACTTCCTTGAGACACGGAGCCCAGCCCTCCCCATGGAGCCAGCTCCCTCTATTTATGTTTGCACTTGTGATTATTTATTATTTATTTATTATTTATTTATTTACAGATGAATGTATTTATTTGGGAGACCGGGGTATCCTGGGGGACCCAATGTAGGAGCTGCCTTGGCTCAGACATGTTTTCCGTGAAAACGGAGCTGAACAATAGGCTGTTCCCATGTAGCCCCCTGGCCTCTGTGCCTTCTTTTGATTATGTTTTTTAAAATATTTATCTGATTAAGTTGTCTAAACAATGCTGATTTGGTGACCAACTGTCACTCATTGCTGAGCCTCTGCTCCCCAGGGGAGTTGTGTCTGTAATCGCCCTACTATTCAGTGGCGAGAAATAAAGTTTGCTTAGAAAAGAAA')\n",
        "seq2 = Seq('ACATTTGCTTCTGACACAACTGTGTTCACTAGCAACCTCAAACAGACACCATGGTGCATCTGACTCCTGAGGAGAAGTCTGCCGTTACTGCCCTGTGGGGCAAGGTGAACGTGGATGAAGTTGGTGGTGAGGCCCTGGGCAGGCTGCTGGTGGTCTACCCTTGGACCCAGAGGTTCTTTGAGTCCTTTGGGGATCTGTCCACTCCTGATGCTGTTATGGGCAACCCTAAGGTGAAGGCTCATGGCAAGAAAGTGCTCGGTGCCTTTAGTGATGGCCTGGCTCACCTGGACAACCTCAAGGGCACCTTTGCCACACTGAGTGAGCTGCACTGTGACAAGCTGCACGTGGATCCTGAGAACTTCAGGCTCCTGGGCAACGTGCTGGTCTGTGTGCTGGCCCATCACTTTGGCAAAGAATTCACCCCACCAGTGCAGGCTGCCTATCAGAAAGTGGTGGCTGGTGTGGCTAATGCCCTGGCCCACAAGTATCACTAAGCTCGCTTTCTTGCTGTCCAATTTCTATTAAAGGTTCCTTTGTTCCCTAAGTCCAACTACTAAACTGGGGGATATTATGAAGGGCCTTGAGCATCTGGATTCTGCCTAATAAAAAACATTTATTTTCATTGCAA')"
      ],
      "metadata": {
        "id": "wKyMUf0pipC6"
      },
      "execution_count": null,
      "outputs": []
    },
    {
      "cell_type": "markdown",
      "source": [
        "**GLOBAL ALIGMENTS**"
      ],
      "metadata": {
        "id": "MsLyeSq5O059"
      }
    },
    {
      "cell_type": "code",
      "source": [
        "#Global Aligments \n",
        "aligments = pairwise2.align.globalxx(seq1,seq2)"
      ],
      "metadata": {
        "id": "OsJKXro2iXsT"
      },
      "execution_count": null,
      "outputs": []
    },
    {
      "cell_type": "code",
      "source": [
        "aligments "
      ],
      "metadata": {
        "colab": {
          "base_uri": "https://localhost:8080/"
        },
        "id": "vDpkFghsjzlc",
        "outputId": "a900c24a-b34c-4855-c731-f5f5524ce2d5"
      },
      "execution_count": null,
      "outputs": [
        {
          "output_type": "execute_result",
          "data": {
            "text/plain": [
              "[Alignment(seqA='AGCAGACGCTCCCTCAGCAAGGACAGCAGAGGACCAGCTAAGAGGGAGAGAAGCAACTACAGACCCCCCCTGAAAACAACCCTCAGACGCCACATCCCCTGACAAGCTGCCGGCAGGTTCTCTTCC-TCTCACATACTGACCCACGGCTCCACCCTCTCTCCCCTGGAAAG--GACACCATGAGCACTGAAAGCATGATCCGGGACGTGGAGCTGGCCGAGGAGGCGCTCCCCAAGAAGACAGGGGGGCCCCAGGGCTCCAGGCG-GTGCTTGTTCCTCAGCCTCTT-CTC-CTTCCTGATCGTGGCAGGCGCCACCACGCTCTTCTGCCTGCTGCACTTTGGA-GTG-ATCGGCCCCCAGAG--GGAA-GAGTTCCCCAG-GGACCTCTCTCTAATCAGCCCTCTGGCCCAGGCAGTCAGATCATCTTCTCGAACCCCGAGTGACAAGCCTG-TAGCCCATGTTGTAGCAAACCCTCAAGCTGAGGGGCAGCTCCAGTGGCT--GAACCGCCGGGCCAATGCCCTCCTGGCCAATGGCGTGGAG-CTGAGAGATAACCAGCTGGTGGTGCCATCAGAGG-GCCTGTACCTCAT---CTACTCCCAGGTCCTCTTCAAGG-GCCAAGGCTGCCCCTCCACCCATGTGCTCCTCACCCAC-ACCATCAGCCGCATCGCCGTCTCCTACCAGACCAAGGTCAACCTC-CTCTCTGCCATCAAGAGCCCCTGCCAGAGG-GAGACCCCAGAGGGGGCTGAGGC-CAAGCCCTGGTATGAGCCCATCTATCTGGGAGGGGTCTTCCAGCTGGAGAAGGGTGACCGACTCAGCGCTGAGATCAATCGGCCCGACTATCTCGACTTTGCCGAGTCTGGGCAGGTCTACTTTGGGATCATTGCCCTGTGAGGAGGACGAACATCCAACCTTCCCAAACGCCTCCCCTGCCCCAATCCCTTTAT-T--ACCCCCTCCTTCAGACACCCTC-AACCTCTTCT-GGCTCAAAAAGAGAATTGGGGGCTTAGGGTCGGAACCCAAGCTTAGAACTTTAAGCAACAAGACCACCACTTCGAAACCTGGGATTCAGGAATGTG-TGGCCTGCA-CAG-TGAAGTGCTGGCAACCACTAAGAATTCAAACTGGGGCCTCCAGAACTCACTGGGGCCTA-CAGCTTTGATCCCTGACATCTGGAATCTGGAGACCAGGGAGCCTTTGGTTCTGGCCAGAATGCTGCAGGACTTGA-GAAGACCTCACCTAGAAATTGACACAAGTGGACCTTAGGCCTTCCTCTCTC-CAGATGTTTCCAGACTTCCTTGAGACACGGAGCCCAGCCCTCCCCATGGAGCCAGCTCCCTCTATTTATG-TTTGCACTTG-TGATTATTTATTATTTATTTATTATTT--ATTTATTTACAGATGAATGTATTTATTTGGGAGACCGGGGTATCCTGGGGGACCCAATGTAGGAGCTG-CCTTGGCTCAGACATGTTTTCCGTGAAAACGGAGCTGAACAATAGGCTGTTCCCATGTAGCCCCCTGGCCTCTGTGCCTTCTTTTGATTATGTTTTTTAAAATATTTATCTGATTAAGTTGTCTAAACAATGCTGATTTGGTGACCAACTGTCACTCATTGCTGAGCCTC-TGCTCCCCAGGGGAGTTGTGTCTGTAATCGCCCTACTATTCAGTGGCGAGAAATA-A---AGTTTG-C-TTAGAAAAGA-AA', seqB='A-C--A---T---T------------------------T-------------G---CT------------T----------CT-----G----A----C--ACAA-CT--------G------T--GT-TCAC-TA--G---CA-------A----C-CT---C---AAA-CAGACACCATG-G---T----GC---AT------C-T-GA-CT-----------C-CT---------G--A----GG----A--G----A----AGT-C-TG---C-C-G----TTACT-GC--CC---T-GT-G--GG-G-CA--A---------G---G-TG-A------ACGTGGAT--G-----A-AGTTGG--TG-G-T-----GAGG----C-C-C---T--G------GG--CAGGC--T--G--------CT--------G-GTG----G--T-CTA-CCC---TTG--G---A-CC-C-A---GA---G--G-T----T--CTTTG-A-------G----T--CCT--T------T-G-G-GGA-TCT----G-T--CCA-C------T-CC-T--GA--TG-CTGT---T-ATGGGC-A-----A---CC-C-T-AAGGTG--AA-G--G---CT-----CATG-G-----CA---A-GA--A--A---G--T----G----CT-------C--GG------T-GC-CT-T----T----AG----T----GA--TG-G----C--------CT--GGCTC-A--CCT-G---GA---CA---A-C----------C-T----C-----AA--G-G---G---CA-C-CT----T---T--G--C--C-A---C-AC--T---GAG--T--G-A-G----C--T--G--CA-----CTGT---------G--------A------C-AA-G------CTG---C-A---C-----GTGGA-----TCC-T--G--A-----GAA---CTTC-AGGCTC-----------------C-T-GGG-C--AA--C--G--T-G--C--T--G------G---------T------C------T---G--TGTGCTGGCC--CATCA-CT----T--TGG----CA--AAGAATTC--A------CC-CC---AC-CA-----G--T-GCAG----G----CTG-C--CT---ATC---AGA--A---AG----TGG---T-----G---GCT---GG---TG-TG--G-------CT---AA-TG---C-------CC-T-GG-------C-C-CACA-A-G--T----A------T-------------CA--------C-T--A---AG----CTC-------GCTTT---CTTGCTG------------------------TCCA---ATTT-C---------TA-TTA------A-A----GGT-TCCT-----------T-T----G-T-TCC----CT---A-A-G---TCC------A---A-CT--AC--TA----------A---A-----CT-G-----G-G---------G-----G---------------A--T-ATT-A--TG--------A-----A----G-G-------G---C-C--T--TGAG---CAT-CT-------GGA----T-TC-----T-G-CCTA--A-T-A------A-AAA-ACATTTA-TTT-TCATT------G-CAA', score=579.0, start=0, end=1726),\n",
              " Alignment(seqA='AGCAGACGCTCCCTCAGCAAGGACAGCAGAGGACCAGCTAAGAGGGAGAGAAGCAACTACAGACCCCCCCTGAAAACAACCCTCAGACGCCACATCCCCTGACAAGCTGCCGGCAGGTTCTCTTCC-TCTCACATACTGACCCACGGCTCCACCCTCTCTCCCCTGGAAAG--GACACCATGAGCACTGAAAGCATGATCCGGGACGTGGAGCTGGCCGAGGAGGCGCTCCCCAAGAAGACAGGGGGGCCCCAGGGCTCCAGGCG-GTGCTTGTTCCTCAGCCTCTT-CTC-CTTCCTGATCGTGGCAGGCGCCACCACGCTCTTCTGCCTGCTGCACTTTGGA-GTG-ATCGGCCCCCAGAG--GGAA-GAGTTCCCCAG-GGACCTCTCTCTAATCAGCCCTCTGGCCCAGGCAGTCAGATCATCTTCTCGAACCCCGAGTGACAAGCCTG-TAGCCCATGTTGTAGCAAACCCTCAAGCTGAGGGGCAGCTCCAGTGGCT--GAACCGCCGGGCCAATGCCCTCCTGGCCAATGGCGTGGAG-CTGAGAGATAACCAGCTGGTGGTGCCATCAGAGG-GCCTGTACCTCAT---CTACTCCCAGGTCCTCTTCAAGG-GCCAAGGCTGCCCCTCCACCCATGTGCTCCTCACCCAC-ACCATCAGCCGCATCGCCGTCTCCTACCAGACCAAGGTCAACCTC-CTCTCTGCCATCAAGAGCCCCTGCCAGAGG-GAGACCCCAGAGGGGGCTGAGGC-CAAGCCCTGGTATGAGCCCATCTATCTGGGAGGGGTCTTCCAGCTGGAGAAGGGTGACCGACTCAGCGCTGAGATCAATCGGCCCGACTATCTCGACTTTGCCGAGTCTGGGCAGGTCTACTTTGGGATCATTGCCCTGTGAGGAGGACGAACATCCAACCTTCCCAAACGCCTCCCCTGCCCCAATCCCTTTAT-T--ACCCCCTCCTTCAGACACCCTC-AACCTCTTCT-GGCTCAAAAAGAGAATTGGGGGCTTAGGGTCGGAACCCAAGCTTAGAACTTTAAGCAACAAGACCACCACTTCGAAACCTGGGATTCAGGAATGTG-TGGCCTGCA-CAG-TGAAGTGCTGGCAACCACTAAGAATTCAAACTGGGGCCTCCAGAACTCACTGGGGCCTA-CAGCTTTGATCCCTGACATCTGGAATCTGGAGACCAGGGAGCCTTTGGTTCTGGCCAGAATGCTGCAGGACTTGA-GAAGACCTCACCTAGAAATTGACACAAGTGGACCTTAGGCCTTCCTCTCTC-CAGATGTTTCCAGACTTCCTTGAGACACGGAGCCCAGCCCTCCCCATGGAGCCAGCTCCCTCTATTTATG-TTTGCACTTG-TGATTATTTATTATTTATTTATTATTT--ATTTATTTACAGATGAATGTATTTATTTGGGAGACCGGGGTATCCTGGGGGACCCAATGTAGGAGCTG-CCTTGGCTCAGACATGTTTTCCGTGAAAACGGAGCTGAACAATAGGCTGTTCCCATGTAGCCCCCTGGCCTCTGTGCCTTCTTTTGATTATGTTTTTTAAAATATTTATCTGATTAAGTTGTCTAAACAATGCTGATTTGGTGACCAACTGTCACTCATTGCTGAGCCTC-TGCTCCCCAGGGGAGTTGTGTCTGTAATCGCCCTACTATTCAGTGGCGAGAAATA-A---AGTTTG-C-TTAGAAAAGA-AA', seqB='A-CA-----T---T------------------------T-------------G---CT------------T----------CT-----G----A----C--ACAA-CT--------G------T--GT-TCAC-TA--G---CA-------A----C-CT---C---AAA-CAGACACCATG-G---T----GC---AT------C-T-GA-CT-----------C-CT---------G--A----GG----A--G----A----AGT-C-TG---C-C-G----TTACT-GC--CC---T-GT-G--GG-G-CA--A---------G---G-TG-A------ACGTGGAT--G-----A-AGTTGG--TG-G-T-----GAGG----C-C-C---T--G------GG--CAGGC--T--G--------CT--------G-GTG----G--T-CTA-CCC---TTG--G---A-CC-C-A---GA---G--G-T----T--CTTTG-A-------G----T--CCT--T------T-G-G-GGA-TCT----G-T--CCA-C------T-CC-T--GA--TG-CTGT---T-ATGGGC-A-----A---CC-C-T-AAGGTG--AA-G--G---CT-----CATG-G-----CA---A-GA--A--A---G--T----G----CT-------C--GG------T-GC-CT-T----T----AG----T----GA--TG-G----C--------CT--GGCTC-A--CCT-G---GA---CA---A-C----------C-T----C-----AA--G-G---G---CA-C-CT----T---T--G--C--C-A---C-AC--T---GAG--T--G-A-G----C--T--G--CA-----CTGT---------G--------A------C-AA-G------CTG---C-A---C-----GTGGA-----TCC-T--G--A-----GAA---CTTC-AGGCTC-----------------C-T-GGG-C--AA--C--G--T-G--C--T--G------G---------T------C------T---G--TGTGCTGGCC--CATCA-CT----T--TGG----CA--AAGAATTC--A------CC-CC---AC-CA-----G--T-GCAG----G----CTG-C--CT---ATC---AGA--A---AG----TGG---T-----G---GCT---GG---TG-TG--G-------CT---AA-TG---C-------CC-T-GG-------C-C-CACA-A-G--T----A------T-------------CA--------C-T--A---AG----CTC-------GCTTT---CTTGCTG------------------------TCCA---ATTT-C---------TA-TTA------A-A----GGT-TCCT-----------T-T----G-T-TCC----CT---A-A-G---TCC------A---A-CT--AC--TA----------A---A-----CT-G-----G-G---------G-----G---------------A--T-ATT-A--TG--------A-----A----G-G-------G---C-C--T--TGAG---CAT-CT-------GGA----T-TC-----T-G-CCTA--A-T-A------A-AAA-ACATTTA-TTT-TCATT------G-CAA', score=579.0, start=0, end=1726)]"
            ]
          },
          "metadata": {},
          "execution_count": 6
        }
      ]
    },
    {
      "cell_type": "code",
      "source": [
        "# To display the aligment\n",
        "\n",
        "print(format_alignment(*aligments[0]))"
      ],
      "metadata": {
        "colab": {
          "base_uri": "https://localhost:8080/"
        },
        "id": "5ZkA6uHYj27D",
        "outputId": "e9a139df-ef56-4434-fd8e-62940091b225"
      },
      "execution_count": null,
      "outputs": [
        {
          "output_type": "stream",
          "name": "stdout",
          "text": [
            "AGCAGACGCTCCCTCAGCAAGGACAGCAGAGGACCAGCTAAGAGGGAGAGAAGCAACTACAGACCCCCCCTGAAAACAACCCTCAGACGCCACATCCCCTGACAAGCTGCCGGCAGGTTCTCTTCC-TCTCACATACTGACCCACGGCTCCACCCTCTCTCCCCTGGAAAG--GACACCATGAGCACTGAAAGCATGATCCGGGACGTGGAGCTGGCCGAGGAGGCGCTCCCCAAGAAGACAGGGGGGCCCCAGGGCTCCAGGCG-GTGCTTGTTCCTCAGCCTCTT-CTC-CTTCCTGATCGTGGCAGGCGCCACCACGCTCTTCTGCCTGCTGCACTTTGGA-GTG-ATCGGCCCCCAGAG--GGAA-GAGTTCCCCAG-GGACCTCTCTCTAATCAGCCCTCTGGCCCAGGCAGTCAGATCATCTTCTCGAACCCCGAGTGACAAGCCTG-TAGCCCATGTTGTAGCAAACCCTCAAGCTGAGGGGCAGCTCCAGTGGCT--GAACCGCCGGGCCAATGCCCTCCTGGCCAATGGCGTGGAG-CTGAGAGATAACCAGCTGGTGGTGCCATCAGAGG-GCCTGTACCTCAT---CTACTCCCAGGTCCTCTTCAAGG-GCCAAGGCTGCCCCTCCACCCATGTGCTCCTCACCCAC-ACCATCAGCCGCATCGCCGTCTCCTACCAGACCAAGGTCAACCTC-CTCTCTGCCATCAAGAGCCCCTGCCAGAGG-GAGACCCCAGAGGGGGCTGAGGC-CAAGCCCTGGTATGAGCCCATCTATCTGGGAGGGGTCTTCCAGCTGGAGAAGGGTGACCGACTCAGCGCTGAGATCAATCGGCCCGACTATCTCGACTTTGCCGAGTCTGGGCAGGTCTACTTTGGGATCATTGCCCTGTGAGGAGGACGAACATCCAACCTTCCCAAACGCCTCCCCTGCCCCAATCCCTTTAT-T--ACCCCCTCCTTCAGACACCCTC-AACCTCTTCT-GGCTCAAAAAGAGAATTGGGGGCTTAGGGTCGGAACCCAAGCTTAGAACTTTAAGCAACAAGACCACCACTTCGAAACCTGGGATTCAGGAATGTG-TGGCCTGCA-CAG-TGAAGTGCTGGCAACCACTAAGAATTCAAACTGGGGCCTCCAGAACTCACTGGGGCCTA-CAGCTTTGATCCCTGACATCTGGAATCTGGAGACCAGGGAGCCTTTGGTTCTGGCCAGAATGCTGCAGGACTTGA-GAAGACCTCACCTAGAAATTGACACAAGTGGACCTTAGGCCTTCCTCTCTC-CAGATGTTTCCAGACTTCCTTGAGACACGGAGCCCAGCCCTCCCCATGGAGCCAGCTCCCTCTATTTATG-TTTGCACTTG-TGATTATTTATTATTTATTTATTATTT--ATTTATTTACAGATGAATGTATTTATTTGGGAGACCGGGGTATCCTGGGGGACCCAATGTAGGAGCTG-CCTTGGCTCAGACATGTTTTCCGTGAAAACGGAGCTGAACAATAGGCTGTTCCCATGTAGCCCCCTGGCCTCTGTGCCTTCTTTTGATTATGTTTTTTAAAATATTTATCTGATTAAGTTGTCTAAACAATGCTGATTTGGTGACCAACTGTCACTCATTGCTGAGCCTC-TGCTCCCCAGGGGAGTTGTGTCTGTAATCGCCCTACTATTCAGTGGCGAGAAATA-A---AGTTTG-C-TTAGAAAAGA-AA\n",
            "| |  |   |   |                        |             |   ||            |          ||     |    |    |  |||| ||        |      |   | |||| ||  |   ||       |    | ||   |   |||   ||||||||| |   |    ||   ||      | | || ||           | ||         |  |    ||    |  |    |     || | ||   | | |    || ||  |  ||   | || |  || | ||  |         |   | || |      | ||| ||  |     | ||  ||   | | |     | ||    | | |   |  |      ||  |||||  |  |        ||        | |||    |  |  || |||   |||  |   | || | |   ||   |  | |    |  ||  | |       |    |  |||  |      | | | |||  ||    | |  ||| |      | || |  ||   | ||||   | ||   | |     |   || | | |||| |  || |  |   ||     |||| |     ||   |  |  |  |   |  |    |    ||       |  ||      |  | || |    |    ||    |    ||   | |    |        ||  ||| | |  ||| |   ||   ||   | |          | |    |     ||  | |   |   || | ||    |   |  |  |  | |   | ||  |   |||  |  | | |    |  |  |  ||     ||||         |        |      | || |      |||   | |   |      |  |     ||| |  |  |      ||   ||||  |||||                 | | ||| |  ||  |  |  | |  |  |  |      |         |      |      |   |  |||| |||||  || ||  |    |  |||    ||  ||||||||  |      || ||   || ||     |  |  |||    |    ||| |  ||   |||   |||  |   ||    |||   |     |   |||   ||   ||  |  |       ||   || ||   |       || | ||       | | | || | |  |    |      |             ||        | |  |   ||    |||       | |||   |||| ||                        |  |   |||| |         || |||      | |    ||| ||||           | |    | |  ||    ||   | | |   |||      |   | ||  ||  ||          |   |     || |     | |         |     |               |  | ||| |  ||        |     |    | |       |   | |  |  ||||   | | ||       |||    | ||     | | ||||  | | |      | ||| | |   | |||  | ||      |  ||\n",
            "A-C--A---T---T------------------------T-------------G---CT------------T----------CT-----G----A----C--ACAA-CT--------G------T--GT-TCAC-TA--G---CA-------A----C-CT---C---AAA-CAGACACCATG-G---T----GC---AT------C-T-GA-CT-----------C-CT---------G--A----GG----A--G----A----AGT-C-TG---C-C-G----TTACT-GC--CC---T-GT-G--GG-G-CA--A---------G---G-TG-A------ACGTGGAT--G-----A-AGTTGG--TG-G-T-----GAGG----C-C-C---T--G------GG--CAGGC--T--G--------CT--------G-GTG----G--T-CTA-CCC---TTG--G---A-CC-C-A---GA---G--G-T----T--CTTTG-A-------G----T--CCT--T------T-G-G-GGA-TCT----G-T--CCA-C------T-CC-T--GA--TG-CTGT---T-ATGGGC-A-----A---CC-C-T-AAGGTG--AA-G--G---CT-----CATG-G-----CA---A-GA--A--A---G--T----G----CT-------C--GG------T-GC-CT-T----T----AG----T----GA--TG-G----C--------CT--GGCTC-A--CCT-G---GA---CA---A-C----------C-T----C-----AA--G-G---G---CA-C-CT----T---T--G--C--C-A---C-AC--T---GAG--T--G-A-G----C--T--G--CA-----CTGT---------G--------A------C-AA-G------CTG---C-A---C-----GTGGA-----TCC-T--G--A-----GAA---CTTC-AGGCTC-----------------C-T-GGG-C--AA--C--G--T-G--C--T--G------G---------T------C------T---G--TGTGCTGGCC--CATCA-CT----T--TGG----CA--AAGAATTC--A------CC-CC---AC-CA-----G--T-GCAG----G----CTG-C--CT---ATC---AGA--A---AG----TGG---T-----G---GCT---GG---TG-TG--G-------CT---AA-TG---C-------CC-T-GG-------C-C-CACA-A-G--T----A------T-------------CA--------C-T--A---AG----CTC-------GCTTT---CTTGCTG------------------------TCCA---ATTT-C---------TA-TTA------A-A----GGT-TCCT-----------T-T----G-T-TCC----CT---A-A-G---TCC------A---A-CT--AC--TA----------A---A-----CT-G-----G-G---------G-----G---------------A--T-ATT-A--TG--------A-----A----G-G-------G---C-C--T--TGAG---CAT-CT-------GGA----T-TC-----T-G-CCTA--A-T-A------A-AAA-ACATTTA-TTT-TCATT------G-CAA\n",
            "  Score=579\n",
            "\n"
          ]
        }
      ]
    },
    {
      "cell_type": "code",
      "source": [
        "# View all \n",
        "\n",
        "for a in aligments: \n",
        "  print(format_alignment(*a))"
      ],
      "metadata": {
        "colab": {
          "base_uri": "https://localhost:8080/"
        },
        "id": "9ge7owqWkHla",
        "outputId": "bb1e57af-7134-4f8c-a4c7-6b8e5ea3084f"
      },
      "execution_count": null,
      "outputs": [
        {
          "output_type": "stream",
          "name": "stdout",
          "text": [
            "AGCAGACGCTCCCTCAGCAAGGACAGCAGAGGACCAGCTAAGAGGGAGAGAAGCAACTACAGACCCCCCCTGAAAACAACCCTCAGACGCCACATCCCCTGACAAGCTGCCGGCAGGTTCTCTTCC-TCTCACATACTGACCCACGGCTCCACCCTCTCTCCCCTGGAAAG--GACACCATGAGCACTGAAAGCATGATCCGGGACGTGGAGCTGGCCGAGGAGGCGCTCCCCAAGAAGACAGGGGGGCCCCAGGGCTCCAGGCG-GTGCTTGTTCCTCAGCCTCTT-CTC-CTTCCTGATCGTGGCAGGCGCCACCACGCTCTTCTGCCTGCTGCACTTTGGA-GTG-ATCGGCCCCCAGAG--GGAA-GAGTTCCCCAG-GGACCTCTCTCTAATCAGCCCTCTGGCCCAGGCAGTCAGATCATCTTCTCGAACCCCGAGTGACAAGCCTG-TAGCCCATGTTGTAGCAAACCCTCAAGCTGAGGGGCAGCTCCAGTGGCT--GAACCGCCGGGCCAATGCCCTCCTGGCCAATGGCGTGGAG-CTGAGAGATAACCAGCTGGTGGTGCCATCAGAGG-GCCTGTACCTCAT---CTACTCCCAGGTCCTCTTCAAGG-GCCAAGGCTGCCCCTCCACCCATGTGCTCCTCACCCAC-ACCATCAGCCGCATCGCCGTCTCCTACCAGACCAAGGTCAACCTC-CTCTCTGCCATCAAGAGCCCCTGCCAGAGG-GAGACCCCAGAGGGGGCTGAGGC-CAAGCCCTGGTATGAGCCCATCTATCTGGGAGGGGTCTTCCAGCTGGAGAAGGGTGACCGACTCAGCGCTGAGATCAATCGGCCCGACTATCTCGACTTTGCCGAGTCTGGGCAGGTCTACTTTGGGATCATTGCCCTGTGAGGAGGACGAACATCCAACCTTCCCAAACGCCTCCCCTGCCCCAATCCCTTTAT-T--ACCCCCTCCTTCAGACACCCTC-AACCTCTTCT-GGCTCAAAAAGAGAATTGGGGGCTTAGGGTCGGAACCCAAGCTTAGAACTTTAAGCAACAAGACCACCACTTCGAAACCTGGGATTCAGGAATGTG-TGGCCTGCA-CAG-TGAAGTGCTGGCAACCACTAAGAATTCAAACTGGGGCCTCCAGAACTCACTGGGGCCTA-CAGCTTTGATCCCTGACATCTGGAATCTGGAGACCAGGGAGCCTTTGGTTCTGGCCAGAATGCTGCAGGACTTGA-GAAGACCTCACCTAGAAATTGACACAAGTGGACCTTAGGCCTTCCTCTCTC-CAGATGTTTCCAGACTTCCTTGAGACACGGAGCCCAGCCCTCCCCATGGAGCCAGCTCCCTCTATTTATG-TTTGCACTTG-TGATTATTTATTATTTATTTATTATTT--ATTTATTTACAGATGAATGTATTTATTTGGGAGACCGGGGTATCCTGGGGGACCCAATGTAGGAGCTG-CCTTGGCTCAGACATGTTTTCCGTGAAAACGGAGCTGAACAATAGGCTGTTCCCATGTAGCCCCCTGGCCTCTGTGCCTTCTTTTGATTATGTTTTTTAAAATATTTATCTGATTAAGTTGTCTAAACAATGCTGATTTGGTGACCAACTGTCACTCATTGCTGAGCCTC-TGCTCCCCAGGGGAGTTGTGTCTGTAATCGCCCTACTATTCAGTGGCGAGAAATA-A---AGTTTG-C-TTAGAAAAGA-AA\n",
            "| |  |   |   |                        |             |   ||            |          ||     |    |    |  |||| ||        |      |   | |||| ||  |   ||       |    | ||   |   |||   ||||||||| |   |    ||   ||      | | || ||           | ||         |  |    ||    |  |    |     || | ||   | | |    || ||  |  ||   | || |  || | ||  |         |   | || |      | ||| ||  |     | ||  ||   | | |     | ||    | | |   |  |      ||  |||||  |  |        ||        | |||    |  |  || |||   |||  |   | || | |   ||   |  | |    |  ||  | |       |    |  |||  |      | | | |||  ||    | |  ||| |      | || |  ||   | ||||   | ||   | |     |   || | | |||| |  || |  |   ||     |||| |     ||   |  |  |  |   |  |    |    ||       |  ||      |  | || |    |    ||    |    ||   | |    |        ||  ||| | |  ||| |   ||   ||   | |          | |    |     ||  | |   |   || | ||    |   |  |  |  | |   | ||  |   |||  |  | | |    |  |  |  ||     ||||         |        |      | || |      |||   | |   |      |  |     ||| |  |  |      ||   ||||  |||||                 | | ||| |  ||  |  |  | |  |  |  |      |         |      |      |   |  |||| |||||  || ||  |    |  |||    ||  ||||||||  |      || ||   || ||     |  |  |||    |    ||| |  ||   |||   |||  |   ||    |||   |     |   |||   ||   ||  |  |       ||   || ||   |       || | ||       | | | || | |  |    |      |             ||        | |  |   ||    |||       | |||   |||| ||                        |  |   |||| |         || |||      | |    ||| ||||           | |    | |  ||    ||   | | |   |||      |   | ||  ||  ||          |   |     || |     | |         |     |               |  | ||| |  ||        |     |    | |       |   | |  |  ||||   | | ||       |||    | ||     | | ||||  | | |      | ||| | |   | |||  | ||      |  ||\n",
            "A-C--A---T---T------------------------T-------------G---CT------------T----------CT-----G----A----C--ACAA-CT--------G------T--GT-TCAC-TA--G---CA-------A----C-CT---C---AAA-CAGACACCATG-G---T----GC---AT------C-T-GA-CT-----------C-CT---------G--A----GG----A--G----A----AGT-C-TG---C-C-G----TTACT-GC--CC---T-GT-G--GG-G-CA--A---------G---G-TG-A------ACGTGGAT--G-----A-AGTTGG--TG-G-T-----GAGG----C-C-C---T--G------GG--CAGGC--T--G--------CT--------G-GTG----G--T-CTA-CCC---TTG--G---A-CC-C-A---GA---G--G-T----T--CTTTG-A-------G----T--CCT--T------T-G-G-GGA-TCT----G-T--CCA-C------T-CC-T--GA--TG-CTGT---T-ATGGGC-A-----A---CC-C-T-AAGGTG--AA-G--G---CT-----CATG-G-----CA---A-GA--A--A---G--T----G----CT-------C--GG------T-GC-CT-T----T----AG----T----GA--TG-G----C--------CT--GGCTC-A--CCT-G---GA---CA---A-C----------C-T----C-----AA--G-G---G---CA-C-CT----T---T--G--C--C-A---C-AC--T---GAG--T--G-A-G----C--T--G--CA-----CTGT---------G--------A------C-AA-G------CTG---C-A---C-----GTGGA-----TCC-T--G--A-----GAA---CTTC-AGGCTC-----------------C-T-GGG-C--AA--C--G--T-G--C--T--G------G---------T------C------T---G--TGTGCTGGCC--CATCA-CT----T--TGG----CA--AAGAATTC--A------CC-CC---AC-CA-----G--T-GCAG----G----CTG-C--CT---ATC---AGA--A---AG----TGG---T-----G---GCT---GG---TG-TG--G-------CT---AA-TG---C-------CC-T-GG-------C-C-CACA-A-G--T----A------T-------------CA--------C-T--A---AG----CTC-------GCTTT---CTTGCTG------------------------TCCA---ATTT-C---------TA-TTA------A-A----GGT-TCCT-----------T-T----G-T-TCC----CT---A-A-G---TCC------A---A-CT--AC--TA----------A---A-----CT-G-----G-G---------G-----G---------------A--T-ATT-A--TG--------A-----A----G-G-------G---C-C--T--TGAG---CAT-CT-------GGA----T-TC-----T-G-CCTA--A-T-A------A-AAA-ACATTTA-TTT-TCATT------G-CAA\n",
            "  Score=579\n",
            "\n",
            "AGCAGACGCTCCCTCAGCAAGGACAGCAGAGGACCAGCTAAGAGGGAGAGAAGCAACTACAGACCCCCCCTGAAAACAACCCTCAGACGCCACATCCCCTGACAAGCTGCCGGCAGGTTCTCTTCC-TCTCACATACTGACCCACGGCTCCACCCTCTCTCCCCTGGAAAG--GACACCATGAGCACTGAAAGCATGATCCGGGACGTGGAGCTGGCCGAGGAGGCGCTCCCCAAGAAGACAGGGGGGCCCCAGGGCTCCAGGCG-GTGCTTGTTCCTCAGCCTCTT-CTC-CTTCCTGATCGTGGCAGGCGCCACCACGCTCTTCTGCCTGCTGCACTTTGGA-GTG-ATCGGCCCCCAGAG--GGAA-GAGTTCCCCAG-GGACCTCTCTCTAATCAGCCCTCTGGCCCAGGCAGTCAGATCATCTTCTCGAACCCCGAGTGACAAGCCTG-TAGCCCATGTTGTAGCAAACCCTCAAGCTGAGGGGCAGCTCCAGTGGCT--GAACCGCCGGGCCAATGCCCTCCTGGCCAATGGCGTGGAG-CTGAGAGATAACCAGCTGGTGGTGCCATCAGAGG-GCCTGTACCTCAT---CTACTCCCAGGTCCTCTTCAAGG-GCCAAGGCTGCCCCTCCACCCATGTGCTCCTCACCCAC-ACCATCAGCCGCATCGCCGTCTCCTACCAGACCAAGGTCAACCTC-CTCTCTGCCATCAAGAGCCCCTGCCAGAGG-GAGACCCCAGAGGGGGCTGAGGC-CAAGCCCTGGTATGAGCCCATCTATCTGGGAGGGGTCTTCCAGCTGGAGAAGGGTGACCGACTCAGCGCTGAGATCAATCGGCCCGACTATCTCGACTTTGCCGAGTCTGGGCAGGTCTACTTTGGGATCATTGCCCTGTGAGGAGGACGAACATCCAACCTTCCCAAACGCCTCCCCTGCCCCAATCCCTTTAT-T--ACCCCCTCCTTCAGACACCCTC-AACCTCTTCT-GGCTCAAAAAGAGAATTGGGGGCTTAGGGTCGGAACCCAAGCTTAGAACTTTAAGCAACAAGACCACCACTTCGAAACCTGGGATTCAGGAATGTG-TGGCCTGCA-CAG-TGAAGTGCTGGCAACCACTAAGAATTCAAACTGGGGCCTCCAGAACTCACTGGGGCCTA-CAGCTTTGATCCCTGACATCTGGAATCTGGAGACCAGGGAGCCTTTGGTTCTGGCCAGAATGCTGCAGGACTTGA-GAAGACCTCACCTAGAAATTGACACAAGTGGACCTTAGGCCTTCCTCTCTC-CAGATGTTTCCAGACTTCCTTGAGACACGGAGCCCAGCCCTCCCCATGGAGCCAGCTCCCTCTATTTATG-TTTGCACTTG-TGATTATTTATTATTTATTTATTATTT--ATTTATTTACAGATGAATGTATTTATTTGGGAGACCGGGGTATCCTGGGGGACCCAATGTAGGAGCTG-CCTTGGCTCAGACATGTTTTCCGTGAAAACGGAGCTGAACAATAGGCTGTTCCCATGTAGCCCCCTGGCCTCTGTGCCTTCTTTTGATTATGTTTTTTAAAATATTTATCTGATTAAGTTGTCTAAACAATGCTGATTTGGTGACCAACTGTCACTCATTGCTGAGCCTC-TGCTCCCCAGGGGAGTTGTGTCTGTAATCGCCCTACTATTCAGTGGCGAGAAATA-A---AGTTTG-C-TTAGAAAAGA-AA\n",
            "| ||     |   |                        |             |   ||            |          ||     |    |    |  |||| ||        |      |   | |||| ||  |   ||       |    | ||   |   |||   ||||||||| |   |    ||   ||      | | || ||           | ||         |  |    ||    |  |    |     || | ||   | | |    || ||  |  ||   | || |  || | ||  |         |   | || |      | ||| ||  |     | ||  ||   | | |     | ||    | | |   |  |      ||  |||||  |  |        ||        | |||    |  |  || |||   |||  |   | || | |   ||   |  | |    |  ||  | |       |    |  |||  |      | | | |||  ||    | |  ||| |      | || |  ||   | ||||   | ||   | |     |   || | | |||| |  || |  |   ||     |||| |     ||   |  |  |  |   |  |    |    ||       |  ||      |  | || |    |    ||    |    ||   | |    |        ||  ||| | |  ||| |   ||   ||   | |          | |    |     ||  | |   |   || | ||    |   |  |  |  | |   | ||  |   |||  |  | | |    |  |  |  ||     ||||         |        |      | || |      |||   | |   |      |  |     ||| |  |  |      ||   ||||  |||||                 | | ||| |  ||  |  |  | |  |  |  |      |         |      |      |   |  |||| |||||  || ||  |    |  |||    ||  ||||||||  |      || ||   || ||     |  |  |||    |    ||| |  ||   |||   |||  |   ||    |||   |     |   |||   ||   ||  |  |       ||   || ||   |       || | ||       | | | || | |  |    |      |             ||        | |  |   ||    |||       | |||   |||| ||                        |  |   |||| |         || |||      | |    ||| ||||           | |    | |  ||    ||   | | |   |||      |   | ||  ||  ||          |   |     || |     | |         |     |               |  | ||| |  ||        |     |    | |       |   | |  |  ||||   | | ||       |||    | ||     | | ||||  | | |      | ||| | |   | |||  | ||      |  ||\n",
            "A-CA-----T---T------------------------T-------------G---CT------------T----------CT-----G----A----C--ACAA-CT--------G------T--GT-TCAC-TA--G---CA-------A----C-CT---C---AAA-CAGACACCATG-G---T----GC---AT------C-T-GA-CT-----------C-CT---------G--A----GG----A--G----A----AGT-C-TG---C-C-G----TTACT-GC--CC---T-GT-G--GG-G-CA--A---------G---G-TG-A------ACGTGGAT--G-----A-AGTTGG--TG-G-T-----GAGG----C-C-C---T--G------GG--CAGGC--T--G--------CT--------G-GTG----G--T-CTA-CCC---TTG--G---A-CC-C-A---GA---G--G-T----T--CTTTG-A-------G----T--CCT--T------T-G-G-GGA-TCT----G-T--CCA-C------T-CC-T--GA--TG-CTGT---T-ATGGGC-A-----A---CC-C-T-AAGGTG--AA-G--G---CT-----CATG-G-----CA---A-GA--A--A---G--T----G----CT-------C--GG------T-GC-CT-T----T----AG----T----GA--TG-G----C--------CT--GGCTC-A--CCT-G---GA---CA---A-C----------C-T----C-----AA--G-G---G---CA-C-CT----T---T--G--C--C-A---C-AC--T---GAG--T--G-A-G----C--T--G--CA-----CTGT---------G--------A------C-AA-G------CTG---C-A---C-----GTGGA-----TCC-T--G--A-----GAA---CTTC-AGGCTC-----------------C-T-GGG-C--AA--C--G--T-G--C--T--G------G---------T------C------T---G--TGTGCTGGCC--CATCA-CT----T--TGG----CA--AAGAATTC--A------CC-CC---AC-CA-----G--T-GCAG----G----CTG-C--CT---ATC---AGA--A---AG----TGG---T-----G---GCT---GG---TG-TG--G-------CT---AA-TG---C-------CC-T-GG-------C-C-CACA-A-G--T----A------T-------------CA--------C-T--A---AG----CTC-------GCTTT---CTTGCTG------------------------TCCA---ATTT-C---------TA-TTA------A-A----GGT-TCCT-----------T-T----G-T-TCC----CT---A-A-G---TCC------A---A-CT--AC--TA----------A---A-----CT-G-----G-G---------G-----G---------------A--T-ATT-A--TG--------A-----A----G-G-------G---C-C--T--TGAG---CAT-CT-------GGA----T-TC-----T-G-CCTA--A-T-A------A-AAA-ACATTTA-TTT-TCATT------G-CAA\n",
            "  Score=579\n",
            "\n"
          ]
        }
      ]
    },
    {
      "cell_type": "markdown",
      "source": [
        "**LOCAL ALIGNMENTS** "
      ],
      "metadata": {
        "id": "lwkdVkGXO3WG"
      }
    },
    {
      "cell_type": "code",
      "source": [
        "# Local Aligment \n",
        "loc_aligments = pairwise2.align.localxx(seq1,seq2)"
      ],
      "metadata": {
        "id": "Ep2hkAZOnGCC"
      },
      "execution_count": null,
      "outputs": []
    },
    {
      "cell_type": "code",
      "source": [
        "# View All\n",
        "for a in loc_aligments:\n",
        "  print(format_alignment(*a))"
      ],
      "metadata": {
        "colab": {
          "base_uri": "https://localhost:8080/"
        },
        "id": "0zOzsRz7obnf",
        "outputId": "1783fdcc-7efb-4a1d-d26f-c65b155e6624"
      },
      "execution_count": null,
      "outputs": [
        {
          "output_type": "stream",
          "name": "stdout",
          "text": [
            "AGCAGACGCTCCCTCAGCAAGGACAGCAGAGGACCAGCTAAGAGGGAGAGAAGCAACTACAGACCCCCCCTGAAAACAACCCTCAGACGCCACATCCCCTGACAAGCTGCCGGCAGGTTCTCTTCC-TCTCACATACTGACCCACGGCTCCACCCTCTCTCCCCTGGAAAG--GACACCATGAGCACTGAAAGCATGATCCGGGACGTGGAGCTGGCCGAGGAGGCGCTCCCCAAGAAGACAGGGGGGCCCCAGGGCTCCAGGCG-GTGCTTGTTCCTCAGCCTCTT-CTC-CTTCCTGATCGTGGCAGGCGCCACCACGCTCTTCTGCCTGCTGCACTTTGGA-GTG-ATCGGCCCCCAGAG--GGAA-GAGTTCCCCAG-GGACCTCTCTCTAATCAGCCCTCTGGCCCAGGCAGTCAGATCATCTTCTCGAACCCCGAGTGACAAGCCTG-TAGCCCATGTTGTAGCAAACCCTCAAGCTGAGGGGCAGCTCCAGTGGCT--GAACCGCCGGGCCAATGCCCTCCTGGCCAATGGCGTGGAG-CTGAGAGATAACCAGCTGGTGGTGCCATCAGAGG-GCCTGTACCTCAT---CTACTCCCAGGTCCTCTTCAAGG-GCCAAGGCTGCCCCTCCACCCATGTGCTCCTCACCCAC-ACCATCAGCCGCATCGCCGTCTCCTACCAGACCAAGGTCAACCTC-CTCTCTGCCATCAAGAGCCCCTGCCAGAGG-GAGACCCCAGAGGGGGCTGAGGC-CAAGCCCTGGTATGAGCCCATCTATCTGGGAGGGGTCTTCCAGCTGGAGAAGGGTGACCGACTCAGCGCTGAGATCAATCGGCCCGACTATCTCGACTTTGCCGAGTCTGGGCAGGTCTACTTTGGGATCATTGCCCTGTGAGGAGGACGAACATCCAACCTTCCCAAACGCCTCCCCTGCCCCAATCCCTTTAT-T--ACCCCCTCCTTCAGACACCCTC-AACCTCTTCT-GGCTCAAAAAGAGAATTGGGGGCTTAGGGTCGGAACCCAAGCTTAGAACTTTAAGCAACAAGACCACCACTTCGAAACCTGGGATTCAGGAATGTG-TGGCCTGCA-CAG-TGAAGTGCTGGCAACCACTAAGAATTCAAACTGGGGCCTCCAGAACTCACTGGGGCCTA-CAGCTTTGATCCCTGACATCTGGAATCTGGAGACCAGGGAGCCTTTGGTTCTGGCCAGAATGCTGCAGGACTTGA-GAAGACCTCACCTAGAAATTGACACAAGTGGACCTTAGGCCTTCCTCTCTC-CAGATGTTTCCAGACTTCCTTGAGACACGGAGCCCAGCCCTCCCCATGGAGCCAGCTCCCTCTATTTATG-TTTGCACTTG-TGATTATTTATTATTTATTTATTATTT--ATTTATTTACAGATGAATGTATTTATTTGGGAGACCGGGGTATCCTGGGGGACCCAATGTAGGAGCTG-CCTTGGCTCAGACATGTTTTCCGTGAAAACGGAGCTGAACAATAGGCTGTTCCCATGTAGCCCCCTGGCCTCTGTGCCTTCTTTTGATTATGTTTTTTAAAATATTTATCTGATTAAGTTGTCTAAACAATGCTGATTTGGTGACCAACTGTCACTCATTGCTGAGCCTC-TGCTCCCCAGGGGAGTTGTGTCTGTAATCGCCCTACTATTCAGTGGCGAGAAATA-A---AGTTTG-C-TTAGAAAAGA-AA\n",
            "| |  |   |   |                        |             |   ||            |          ||     |    |    |  |||| ||        |      |   | |||| ||  |   ||       |    | ||   |   |||   ||||||||| |   |    ||   ||      | | || ||           | ||         |  |    ||    |  |    |     || | ||   | | |    || ||  |  ||   | || |  || | ||  |         |   | || |      | ||| ||  |     | ||  ||   | | |     | ||    | | |   |  |      ||  |||||  |  |        ||        | |||    |  |  || |||   |||  |   | || | |   ||   |  | |    |  ||  | |       |    |  |||  |      | | | |||  ||    | |  ||| |      | || |  ||   | ||||   | ||   | |     |   || | | |||| |  || |  |   ||     |||| |     ||   |  |  |  |   |  |    |    ||       |  ||      |  | || |    |    ||    |    ||   | |    |        ||  ||| | |  ||| |   ||   ||   | |          | |    |     ||  | |   |   || | ||    |   |  |  |  | |   | ||  |   |||  |  | | |    |  |  |  ||     ||||         |        |      | || |      |||   | |   |      |  |     ||| |  |  |      ||   ||||  |||||                 | | ||| |  ||  |  |  | |  |  |  |      |         |      |      |   |  |||| |||||  || ||  |    |  |||    ||  ||||||||  |      || ||   || ||     |  |  |||    |    ||| |  ||   |||   |||  |   ||    |||   |     |   |||   ||   ||  |  |       ||   || ||   |       || | ||       | | | || | |  |    |      |             ||        | |  |   ||    |||       | |||   |||| ||                        |  |   |||| |         || |||      | |    ||| ||||           | |    | |  ||    ||   | | |   |||      |   | ||  ||  ||          |   |     || |     | |         |     |               |  | ||| |  ||        |     |    | |       |   | |  |  ||||   | | ||       |||    | ||     | | ||||  | | |      | ||| | |   | |||  | ||      |  ||\n",
            "A-C--A---T---T------------------------T-------------G---CT------------T----------CT-----G----A----C--ACAA-CT--------G------T--GT-TCAC-TA--G---CA-------A----C-CT---C---AAA-CAGACACCATG-G---T----GC---AT------C-T-GA-CT-----------C-CT---------G--A----GG----A--G----A----AGT-C-TG---C-C-G----TTACT-GC--CC---T-GT-G--GG-G-CA--A---------G---G-TG-A------ACGTGGAT--G-----A-AGTTGG--TG-G-T-----GAGG----C-C-C---T--G------GG--CAGGC--T--G--------CT--------G-GTG----G--T-CTA-CCC---TTG--G---A-CC-C-A---GA---G--G-T----T--CTTTG-A-------G----T--CCT--T------T-G-G-GGA-TCT----G-T--CCA-C------T-CC-T--GA--TG-CTGT---T-ATGGGC-A-----A---CC-C-T-AAGGTG--AA-G--G---CT-----CATG-G-----CA---A-GA--A--A---G--T----G----CT-------C--GG------T-GC-CT-T----T----AG----T----GA--TG-G----C--------CT--GGCTC-A--CCT-G---GA---CA---A-C----------C-T----C-----AA--G-G---G---CA-C-CT----T---T--G--C--C-A---C-AC--T---GAG--T--G-A-G----C--T--G--CA-----CTGT---------G--------A------C-AA-G------CTG---C-A---C-----GTGGA-----TCC-T--G--A-----GAA---CTTC-AGGCTC-----------------C-T-GGG-C--AA--C--G--T-G--C--T--G------G---------T------C------T---G--TGTGCTGGCC--CATCA-CT----T--TGG----CA--AAGAATTC--A------CC-CC---AC-CA-----G--T-GCAG----G----CTG-C--CT---ATC---AGA--A---AG----TGG---T-----G---GCT---GG---TG-TG--G-------CT---AA-TG---C-------CC-T-GG-------C-C-CACA-A-G--T----A------T-------------CA--------C-T--A---AG----CTC-------GCTTT---CTTGCTG------------------------TCCA---ATTT-C---------TA-TTA------A-A----GGT-TCCT-----------T-T----G-T-TCC----CT---A-A-G---TCC------A---A-CT--AC--TA----------A---A-----CT-G-----G-G---------G-----G---------------A--T-ATT-A--TG--------A-----A----G-G-------G---C-C--T--TGAG---CAT-CT-------GGA----T-TC-----T-G-CCTA--A-T-A------A-AAA-ACATTTA-TTT-TCATT------G-CAA\n",
            "  Score=579\n",
            "\n",
            "AGCAGACGCTCCCTCAGCAAGGACAGCAGAGGACCAGCTAAGAGGGAGAGAAGCAACTACAGACCCCCCCTGAAAACAACCCTCAGACGCCACATCCCCTGACAAGCTGCCGGCAGGTTCTCTTCC-TCTCACATACTGACCCACGGCTCCACCCTCTCTCCCCTGGAAAG--GACACCATGAGCACTGAAAGCATGATCCGGGACGTGGAGCTGGCCGAGGAGGCGCTCCCCAAGAAGACAGGGGGGCCCCAGGGCTCCAGGCG-GTGCTTGTTCCTCAGCCTCTT-CTC-CTTCCTGATCGTGGCAGGCGCCACCACGCTCTTCTGCCTGCTGCACTTTGGA-GTG-ATCGGCCCCCAGAG--GGAA-GAGTTCCCCAG-GGACCTCTCTCTAATCAGCCCTCTGGCCCAGGCAGTCAGATCATCTTCTCGAACCCCGAGTGACAAGCCTG-TAGCCCATGTTGTAGCAAACCCTCAAGCTGAGGGGCAGCTCCAGTGGCT--GAACCGCCGGGCCAATGCCCTCCTGGCCAATGGCGTGGAG-CTGAGAGATAACCAGCTGGTGGTGCCATCAGAGG-GCCTGTACCTCAT---CTACTCCCAGGTCCTCTTCAAGG-GCCAAGGCTGCCCCTCCACCCATGTGCTCCTCACCCAC-ACCATCAGCCGCATCGCCGTCTCCTACCAGACCAAGGTCAACCTC-CTCTCTGCCATCAAGAGCCCCTGCCAGAGG-GAGACCCCAGAGGGGGCTGAGGC-CAAGCCCTGGTATGAGCCCATCTATCTGGGAGGGGTCTTCCAGCTGGAGAAGGGTGACCGACTCAGCGCTGAGATCAATCGGCCCGACTATCTCGACTTTGCCGAGTCTGGGCAGGTCTACTTTGGGATCATTGCCCTGTGAGGAGGACGAACATCCAACCTTCCCAAACGCCTCCCCTGCCCCAATCCCTTTAT-T--ACCCCCTCCTTCAGACACCCTC-AACCTCTTCT-GGCTCAAAAAGAGAATTGGGGGCTTAGGGTCGGAACCCAAGCTTAGAACTTTAAGCAACAAGACCACCACTTCGAAACCTGGGATTCAGGAATGTG-TGGCCTGCA-CAG-TGAAGTGCTGGCAACCACTAAGAATTCAAACTGGGGCCTCCAGAACTCACTGGGGCCTA-CAGCTTTGATCCCTGACATCTGGAATCTGGAGACCAGGGAGCCTTTGGTTCTGGCCAGAATGCTGCAGGACTTGA-GAAGACCTCACCTAGAAATTGACACAAGTGGACCTTAGGCCTTCCTCTCTC-CAGATGTTTCCAGACTTCCTTGAGACACGGAGCCCAGCCCTCCCCATGGAGCCAGCTCCCTCTATTTATG-TTTGCACTTG-TGATTATTTATTATTTATTTATTATTT--ATTTATTTACAGATGAATGTATTTATTTGGGAGACCGGGGTATCCTGGGGGACCCAATGTAGGAGCTG-CCTTGGCTCAGACATGTTTTCCGTGAAAACGGAGCTGAACAATAGGCTGTTCCCATGTAGCCCCCTGGCCTCTGTGCCTTCTTTTGATTATGTTTTTTAAAATATTTATCTGATTAAGTTGTCTAAACAATGCTGATTTGGTGACCAACTGTCACTCATTGCTGAGCCTC-TGCTCCCCAGGGGAGTTGTGTCTGTAATCGCCCTACTATTCAGTGGCGAGAAATA-A---AGTTTG-C-TTAGAAAAGA-AA\n",
            "| ||     |   |                        |             |   ||            |          ||     |    |    |  |||| ||        |      |   | |||| ||  |   ||       |    | ||   |   |||   ||||||||| |   |    ||   ||      | | || ||           | ||         |  |    ||    |  |    |     || | ||   | | |    || ||  |  ||   | || |  || | ||  |         |   | || |      | ||| ||  |     | ||  ||   | | |     | ||    | | |   |  |      ||  |||||  |  |        ||        | |||    |  |  || |||   |||  |   | || | |   ||   |  | |    |  ||  | |       |    |  |||  |      | | | |||  ||    | |  ||| |      | || |  ||   | ||||   | ||   | |     |   || | | |||| |  || |  |   ||     |||| |     ||   |  |  |  |   |  |    |    ||       |  ||      |  | || |    |    ||    |    ||   | |    |        ||  ||| | |  ||| |   ||   ||   | |          | |    |     ||  | |   |   || | ||    |   |  |  |  | |   | ||  |   |||  |  | | |    |  |  |  ||     ||||         |        |      | || |      |||   | |   |      |  |     ||| |  |  |      ||   ||||  |||||                 | | ||| |  ||  |  |  | |  |  |  |      |         |      |      |   |  |||| |||||  || ||  |    |  |||    ||  ||||||||  |      || ||   || ||     |  |  |||    |    ||| |  ||   |||   |||  |   ||    |||   |     |   |||   ||   ||  |  |       ||   || ||   |       || | ||       | | | || | |  |    |      |             ||        | |  |   ||    |||       | |||   |||| ||                        |  |   |||| |         || |||      | |    ||| ||||           | |    | |  ||    ||   | | |   |||      |   | ||  ||  ||          |   |     || |     | |         |     |               |  | ||| |  ||        |     |    | |       |   | |  |  ||||   | | ||       |||    | ||     | | ||||  | | |      | ||| | |   | |||  | ||      |  ||\n",
            "A-CA-----T---T------------------------T-------------G---CT------------T----------CT-----G----A----C--ACAA-CT--------G------T--GT-TCAC-TA--G---CA-------A----C-CT---C---AAA-CAGACACCATG-G---T----GC---AT------C-T-GA-CT-----------C-CT---------G--A----GG----A--G----A----AGT-C-TG---C-C-G----TTACT-GC--CC---T-GT-G--GG-G-CA--A---------G---G-TG-A------ACGTGGAT--G-----A-AGTTGG--TG-G-T-----GAGG----C-C-C---T--G------GG--CAGGC--T--G--------CT--------G-GTG----G--T-CTA-CCC---TTG--G---A-CC-C-A---GA---G--G-T----T--CTTTG-A-------G----T--CCT--T------T-G-G-GGA-TCT----G-T--CCA-C------T-CC-T--GA--TG-CTGT---T-ATGGGC-A-----A---CC-C-T-AAGGTG--AA-G--G---CT-----CATG-G-----CA---A-GA--A--A---G--T----G----CT-------C--GG------T-GC-CT-T----T----AG----T----GA--TG-G----C--------CT--GGCTC-A--CCT-G---GA---CA---A-C----------C-T----C-----AA--G-G---G---CA-C-CT----T---T--G--C--C-A---C-AC--T---GAG--T--G-A-G----C--T--G--CA-----CTGT---------G--------A------C-AA-G------CTG---C-A---C-----GTGGA-----TCC-T--G--A-----GAA---CTTC-AGGCTC-----------------C-T-GGG-C--AA--C--G--T-G--C--T--G------G---------T------C------T---G--TGTGCTGGCC--CATCA-CT----T--TGG----CA--AAGAATTC--A------CC-CC---AC-CA-----G--T-GCAG----G----CTG-C--CT---ATC---AGA--A---AG----TGG---T-----G---GCT---GG---TG-TG--G-------CT---AA-TG---C-------CC-T-GG-------C-C-CACA-A-G--T----A------T-------------CA--------C-T--A---AG----CTC-------GCTTT---CTTGCTG------------------------TCCA---ATTT-C---------TA-TTA------A-A----GGT-TCCT-----------T-T----G-T-TCC----CT---A-A-G---TCC------A---A-CT--AC--TA----------A---A-----CT-G-----G-G---------G-----G---------------A--T-ATT-A--TG--------A-----A----G-G-------G---C-C--T--TGAG---CAT-CT-------GGA----T-TC-----T-G-CCTA--A-T-A------A-AAA-ACATTTA-TTT-TCATT------G-CAA\n",
            "  Score=579\n",
            "\n"
          ]
        }
      ]
    },
    {
      "cell_type": "code",
      "source": [
        "# Get the Aligment by only the score \n",
        "alignment2 = pairwise2.align.globalxx(seq1,seq2,one_alignment_only=True,score_only=True)"
      ],
      "metadata": {
        "id": "FcnHLmXuovt-"
      },
      "execution_count": null,
      "outputs": []
    },
    {
      "cell_type": "code",
      "source": [
        "alignment2"
      ],
      "metadata": {
        "colab": {
          "base_uri": "https://localhost:8080/"
        },
        "id": "FwGZtOSYp1Qw",
        "outputId": "cce5280f-aaa0-49da-83bd-b65e67f077a8"
      },
      "execution_count": null,
      "outputs": [
        {
          "output_type": "execute_result",
          "data": {
            "text/plain": [
              "579.0"
            ]
          },
          "metadata": {},
          "execution_count": 30
        }
      ]
    },
    {
      "cell_type": "code",
      "source": [
        "seq1 = Seq('AGCAGACGCTCCCTCAGCAAGGACAGCAGAGGACCAGCTAAGAGGGAGAGAAGCAACTACAGACCCCCCCTGAAAACAACCCTCAGACGCCACATCCCCTGACAAGCTGCCGGCAGGTTCTCTTCCTCTCACATACTGACCCACGGCTCCACCCTCTCTCCCCTGGAAAGGACACCATGAGCACTGAAAGCATGATCCGGGACGTGGAGCTGGCCGAGGAGGCGCTCCCCAAGAAGACAGGGGGGCCCCAGGGCTCCAGGCGGTGCTTGTTCCTCAGCCTCTTCTCCTTCCTGATCGTGGCAGGCGCCACCACGCTCTTCTGCCTGCTGCACTTTGGAGTGATCGGCCCCCAGAGGGAAGAGTTCCCCAGGGACCTCTCTCTAATCAGCCCTCTGGCCCAGGCAGTCAGATCATCTTCTCGAACCCCGAGTGACAAGCCTGTAGCCCATGTTGTAGCAAACCCTCAAGCTGAGGGGCAGCTCCAGTGGCTGAACCGCCGGGCCAATGCCCTCCTGGCCAATGGCGTGGAGCTGAGAGATAACCAGCTGGTGGTGCCATCAGAGGGCCTGTACCTCATCTACTCCCAGGTCCTCTTCAAGGGCCAAGGCTGCCCCTCCACCCATGTGCTCCTCACCCACACCATCAGCCGCATCGCCGTCTCCTACCAGACCAAGGTCAACCTCCTCTCTGCCATCAAGAGCCCCTGCCAGAGGGAGACCCCAGAGGGGGCTGAGGCCAAGCCCTGGTATGAGCCCATCTATCTGGGAGGGGTCTTCCAGCTGGAGAAGGGTGACCGACTCAGCGCTGAGATCAATCGGCCCGACTATCTCGACTTTGCCGAGTCTGGGCAGGTCTACTTTGGGATCATTGCCCTGTGAGGAGGACGAACATCCAACCTTCCCAAACGCCTCCCCTGCCCCAATCCCTTTATTACCCCCTCCTTCAGACACCCTCAACCTCTTCTGGCTCAAAAAGAGAATTGGGGGCTTAGGGTCGGAACCCAAGCTTAGAACTTTAAGCAACAAGACCACCACTTCGAAACCTGGGATTCAGGAATGTGTGGCCTGCACAGTGAAGTGCTGGCAACCACTAAGAATTCAAACTGGGGCCTCCAGAACTCACTGGGGCCTACAGCTTTGATCCCTGACATCTGGAATCTGGAGACCAGGGAGCCTTTGGTTCTGGCCAGAATGCTGCAGGACTTGAGAAGACCTCACCTAGAAATTGACACAAGTGGACCTTAGGCCTTCCTCTCTCCAGATGTTTCCAGACTTCCTTGAGACACGGAGCCCAGCCCTCCCCATGGAGCCAGCTCCCTCTATTTATGTTTGCACTTGTGATTATTTATTATTTATTTATTATTTATTTATTTACAGATGAATGTATTTATTTGGGAGACCGGGGTATCCTGGGGGACCCAATGTAGGAGCTGCCTTGGCTCAGACATGTTTTCCGTGAAAACGGAGCTGAACAATAGGCTGTTCCCATGTAGCCCCCTGGCCTCTGTGCCTTCTTTTGATTATGTTTTTTAAAATATTTATCTGATTAAGTTGTCTAAACAATGCTGATTTGGTGACCAACTGTCACTCATTGCTGAGCCTCTGCTCCCCAGGGGAGTTGTGTCTGTAATCGCCCTACTATTCAGTGGCGAGAAATAAAGTTTGCTTAGAAAAGAAA')\n",
        "seq2 = Seq('ACATTTGCTTCTGACACAACTGTGTTCACTAGCAACCTCAAACAGACACCATGGTGCATCTGACTCCTGAGGAGAAGTCTGCCGTTACTGCCCTGTGGGGCAAGGTGAACGTGGATGAAGTTGGTGGTGAGGCCCTGGGCAGGCTGCTGGTGGTCTACCCTTGGACCCAGAGGTTCTTTGAGTCCTTTGGGGATCTGTCCACTCCTGATGCTGTTATGGGCAACCCTAAGGTGAAGGCTCATGGCAAGAAAGTGCTCGGTGCCTTTAGTGATGGCCTGGCTCACCTGGACAACCTCAAGGGCACCTTTGCCACACTGAGTGAGCTGCACTGTGACAAGCTGCACGTGGATCCTGAGAACTTCAGGCTCCTGGGCAACGTGCTGGTCTGTGTGCTGGCCCATCACTTTGGCAAAGAATTCACCCCACCAGTGCAGGCTGCCTATCAGAAAGTGGTGGCTGGTGTGGCTAATGCCCTGGCCCACAAGTATCACTAAGCTCGCTTTCTTGCTGTCCAATTTCTATTAAAGGTTCCTTTGTTCCCTAAGTCCAACTACTAAACTGGGGGATATTATGAAGGGCCTTGAGCATCTGGATTCTGCCTAATAAAAAACATTTATTTTCATTGCAA')"
      ],
      "metadata": {
        "id": "yxqmg8JRqDoK"
      },
      "execution_count": null,
      "outputs": []
    },
    {
      "cell_type": "code",
      "source": [
        "alignment2/len(seq1)*100"
      ],
      "metadata": {
        "colab": {
          "base_uri": "https://localhost:8080/"
        },
        "id": "9ZoT1zsGqHG8",
        "outputId": "e5fdb9cb-e30b-4120-9bec-96fc98e23b97"
      },
      "execution_count": null,
      "outputs": [
        {
          "output_type": "execute_result",
          "data": {
            "text/plain": [
              "34.52593917710197"
            ]
          },
          "metadata": {},
          "execution_count": 32
        }
      ]
    },
    {
      "cell_type": "code",
      "source": [
        "# Get the alignment by only the score \n",
        "loc_alignment2 = pairwise2.align.localxx(seq1,seq2,one_alignment_only=True,score_only=True)"
      ],
      "metadata": {
        "id": "Nq2XkS7rqQ1D"
      },
      "execution_count": null,
      "outputs": []
    },
    {
      "cell_type": "code",
      "source": [
        "loc_alignment2/len(seq1)*100"
      ],
      "metadata": {
        "colab": {
          "base_uri": "https://localhost:8080/"
        },
        "id": "SA_J9uGOqzmH",
        "outputId": "fff7289b-c723-4372-dfcc-86e72b2e3594"
      },
      "execution_count": null,
      "outputs": [
        {
          "output_type": "execute_result",
          "data": {
            "text/plain": [
              "34.52593917710197"
            ]
          },
          "metadata": {},
          "execution_count": 34
        }
      ]
    },
    {
      "cell_type": "markdown",
      "source": [
        "**SIMILARITY ANALYSIS**"
      ],
      "metadata": {
        "id": "C4Xi9tdMrEcY"
      }
    },
    {
      "cell_type": "code",
      "source": [
        "from Bio.Seq import Seq"
      ],
      "metadata": {
        "id": "oCAE2d8crCc4"
      },
      "execution_count": null,
      "outputs": []
    },
    {
      "cell_type": "code",
      "source": [
        "seqA = Seq('AGCAGACGCTCCCTCAGCAAGGACAGCAGAGGACCAGCTAAGAGGGAGAGAAGCAACTACAGACCCCCCCTGAAAACAACCCTCAGACGCCACATCCCCTGACAAGCTGCCGGCAGGTTCTCTTCCTCTCACATACTGACCCACGGCTCCACCCTCTCTCCCCTGGAAAGGACACCATGAGCACTGAAAGCATGATCCGGGACGTGGAGCTGGCCGAGGAGGCGCTCCCCAAGAAGACAGGGGGGCCCCAGGGCTCCAGGCGGTGCTTGTTCCTCAGCCTCTTCTCCTTCCTGATCGTGGCAGGCGCCACCACGCTCTTCTGCCTGCTGCACTTTGGAGTGATCGGCCCCCAGAGGGAAGAGTTCCCCAGGGACCTCTCTCTAATCAGCCCTCTGGCCCAGGCAGTCAGATCATCTTCTCGAACCCCGAGTGACAAGCCTGTAGCCCATGTTGTAGCAAACCCTCAAGCTGAGGGGCAGCTCCAGTGGCTGAACCGCCGGGCCAATGCCCTCCTGGCCAATGGCGTGGAGCTGAGAGATAACCAGCTGGTGGTGCCATCAGAGGGCCTGTACCTCATCTACTCCCAGGTCCTCTTCAAGGGCCAAGGCTGCCCCTCCACCCATGTGCTCCTCACCCACACCATCAGCCGCATCGCCGTCTCCTACCAGACCAAGGTCAACCTCCTCTCTGCCATCAAGAGCCCCTGCCAGAGGGAGACCCCAGAGGGGGCTGAGGCCAAGCCCTGGTATGAGCCCATCTATCTGGGAGGGGTCTTCCAGCTGGAGAAGGGTGACCGACTCAGCGCTGAGATCAATCGGCCCGACTATCTCGACTTTGCCGAGTCTGGGCAGGTCTACTTTGGGATCATTGCCCTGTGAGGAGGACGAACATCCAACCTTCCCAAACGCCTCCCCTGCCCCAATCCCTTTATTACCCCCTCCTTCAGACACCCTCAACCTCTTCTGGCTCAAAAAGAGAATTGGGGGCTTAGGGTCGGAACCCAAGCTTAGAACTTTAAGCAACAAGACCACCACTTCGAAACCTGGGATTCAGGAATGTGTGGCCTGCACAGTGAAGTGCTGGCAACCACTAAGAATTCAAACTGGGGCCTCCAGAACTCACTGGGGCCTACAGCTTTGATCCCTGACATCTGGAATCTGGAGACCAGGGAGCCTTTGGTTCTGGCCAGAATGCTGCAGGACTTGAGAAGACCTCACCTAGAAATTGACACAAGTGGACCTTAGGCCTTCCTCTCTCCAGATGTTTCCAGACTTCCTTGAGACACGGAGCCCAGCCCTCCCCATGGAGCCAGCTCCCTCTATTTATGTTTGCACTTGTGATTATTTATTATTTATTTATTATTTATTTATTTACAGATGAATGTATTTATTTGGGAGACCGGGGTATCCTGGGGGACCCAATGTAGGAGCTGCCTTGGCTCAGACATGTTTTCCGTGAAAACGGAGCTGAACAATAGGCTGTTCCCATGTAGCCCCCTGGCCTCTGTGCCTTCTTTTGATTATGTTTTTTAAAATATTTATCTGATTAAGTTGTCTAAACAATGCTGATTTGGTGACCAACTGTCACTCATTGCTGAGCCTCTGCTCCCCAGGGGAGTTGTGTCTGTAATCGCCCTACTATTCAGTGGCGAGAAATAAAGTTTGCTTAGAAAAGAAA')\n",
        "seqB = Seq('ACATTTGCTTCTGACACAACTGTGTTCACTAGCAACCTCAAACAGACACCATGGTGCATCTGACTCCTGAGGAGAAGTCTGCCGTTACTGCCCTGTGGGGCAAGGTGAACGTGGATGAAGTTGGTGGTGAGGCCCTGGGCAGGCTGCTGGTGGTCTACCCTTGGACCCAGAGGTTCTTTGAGTCCTTTGGGGATCTGTCCACTCCTGATGCTGTTATGGGCAACCCTAAGGTGAAGGCTCATGGCAAGAAAGTGCTCGGTGCCTTTAGTGATGGCCTGGCTCACCTGGACAACCTCAAGGGCACCTTTGCCACACTGAGTGAGCTGCACTGTGACAAGCTGCACGTGGATCCTGAGAACTTCAGGCTCCTGGGCAACGTGCTGGTCTGTGTGCTGGCCCATCACTTTGGCAAAGAATTCACCCCACCAGTGCAGGCTGCCTATCAGAAAGTGGTGGCTGGTGTGGCTAATGCCCTGGCCCACAAGTATCACTAAGCTCGCTTTCTTGCTGTCCAATTTCTATTAAAGGTTCCTTTGTTCCCTAAGTCCAACTACTAAACTGGGGGATATTATGAAGGGCCTTGAGCATCTGGATTCTGCCTAATAAAAAACATTTATTTTCATTGCAA')"
      ],
      "metadata": {
        "id": "7F2U0SwUrYOp"
      },
      "execution_count": null,
      "outputs": []
    },
    {
      "cell_type": "code",
      "source": [
        "from Bio import pairwise2"
      ],
      "metadata": {
        "id": "Pwx9tO3jra-h"
      },
      "execution_count": null,
      "outputs": []
    },
    {
      "cell_type": "code",
      "source": [
        "AvB = pairwise2.align.localxx(seqA,seqB,one_alignment_only=True,score_only=True)"
      ],
      "metadata": {
        "id": "R6Ro5f9UrgCu"
      },
      "execution_count": null,
      "outputs": []
    },
    {
      "cell_type": "code",
      "source": [
        "print(\"AvB\",AvB/len(seqB) *100)"
      ],
      "metadata": {
        "colab": {
          "base_uri": "https://localhost:8080/"
        },
        "id": "Bybhf5_Gr-CU",
        "outputId": "22b955ca-0dcc-4480-a868-e196076db9d4"
      },
      "execution_count": null,
      "outputs": [
        {
          "output_type": "stream",
          "name": "stdout",
          "text": [
            "AvB 92.19745222929936\n"
          ]
        }
      ]
    },
    {
      "cell_type": "code",
      "source": [
        "# Check IF same \n",
        "seqA == seqB"
      ],
      "metadata": {
        "colab": {
          "base_uri": "https://localhost:8080/"
        },
        "id": "B_ihw4LasHH7",
        "outputId": "c31aba53-1aae-4739-aaa3-113107d61e2d"
      },
      "execution_count": null,
      "outputs": [
        {
          "output_type": "execute_result",
          "data": {
            "text/plain": [
              "False"
            ]
          },
          "metadata": {},
          "execution_count": 14
        }
      ]
    }
  ]
}